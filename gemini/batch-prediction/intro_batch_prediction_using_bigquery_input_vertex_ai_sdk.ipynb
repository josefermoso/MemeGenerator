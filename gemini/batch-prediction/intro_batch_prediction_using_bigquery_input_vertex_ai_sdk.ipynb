{
  "cells": [
    {
      "cell_type": "code",
      "execution_count": null,
      "metadata": {
        "id": "ur8xi4C7S06n"
      },
      "outputs": [],
      "source": [
        "# Copyright 2024 Google LLC\n",
        "#\n",
        "# Licensed under the Apache License, Version 2.0 (the \"License\");\n",
        "# you may not use this file except in compliance with the License.\n",
        "# You may obtain a copy of the License at\n",
        "#\n",
        "#     https://www.apache.org/licenses/LICENSE-2.0\n",
        "#\n",
        "# Unless required by applicable law or agreed to in writing, software\n",
        "# distributed under the License is distributed on an \"AS IS\" BASIS,\n",
        "# WITHOUT WARRANTIES OR CONDITIONS OF ANY KIND, either express or implied.\n",
        "# See the License for the specific language governing permissions and\n",
        "# limitations under the License."
      ]
    },
    {
      "cell_type": "markdown",
      "metadata": {
        "id": "JAPoU8Sm5E6e"
      },
      "source": [
        "# Intro to Batch Predictions with the Gemini API using BigQuery input\n",
        "\n",
        "> **NOTE:** This notebook uses the Vertex AI SDK, which does not support Gemini 2.0; refer to [this updated notebook](https://github.com/GoogleCloudPlatform/generative-ai/blob/main/gemini/batch-prediction/intro_batch_prediction.ipynb) which uses the Google Gen AI SDK.\n",
        ">\n",
        "<table align=\"left\">\n",
        "  <td style=\"text-align: center\">\n",
        "    <a href=\"https://colab.research.google.com/github/GoogleCloudPlatform/generative-ai/blob/main/gemini/batch-prediction/intro_batch_prediction_using_bigquery_input_vertex_ai_sdk.ipynb\">\n",
        "      <img width=\"32px\" src=\"https://www.gstatic.com/pantheon/images/bigquery/welcome_page/colab-logo.svg\" alt=\"Google Colaboratory logo\"><br> Open in Colab\n",
        "    </a>\n",
        "  </td>\n",
        "  <td style=\"text-align: center\">\n",
        "    <a href=\"https://console.cloud.google.com/vertex-ai/colab/import/https:%2F%2Fraw.githubusercontent.com%2FGoogleCloudPlatform%2Fgenerative-ai%2Fmain%2Fgemini%2Fbatch-prediction%2Fintro_batch_prediction_using_bigquery_input_vertex_ai_sdk.ipynb\">\n",
        "      <img width=\"32px\" src=\"https://lh3.googleusercontent.com/JmcxdQi-qOpctIvWKgPtrzZdJJK-J3sWE1RsfjZNwshCFgE_9fULcNpuXYTilIR2hjwN\" alt=\"Google Cloud Colab Enterprise logo\"><br> Open in Colab Enterprise\n",
        "    </a>\n",
        "  </td>\n",
        "  <td style=\"text-align: center\">\n",
        "    <a href=\"https://console.cloud.google.com/vertex-ai/workbench/deploy-notebook?download_url=https://raw.githubusercontent.com/GoogleCloudPlatform/generative-ai/main/gemini/batch-prediction/intro_batch_prediction_using_bigquery_input_vertex_ai_sdk.ipynb\">\n",
        "      <img src=\"https://www.gstatic.com/images/branding/gcpiconscolors/vertexai/v1/32px.svg\" alt=\"Vertex AI logo\"><br> Open in Vertex AI Workbench\n",
        "    </a>\n",
        "  </td>\n",
        "  <td style=\"text-align: center\">\n",
        "    <a href=\"https://console.cloud.google.com/bigquery/import?url=https://github.com/GoogleCloudPlatform/generative-ai/blob/main/gemini/batch-prediction/intro_batch_prediction_using_bigquery_input_vertex_ai_sdk.ipynb\">\n",
        "      <img src=\"https://www.gstatic.com/images/branding/gcpiconscolors/bigquery/v1/32px.svg\" alt=\"BigQuery Studio logo\"><br> Open in BigQuery Studio\n",
        "    </a>\n",
        "  </td>\n",
        "  <td style=\"text-align: center\">\n",
        "    <a href=\"https://github.com/GoogleCloudPlatform/generative-ai/blob/main/gemini/batch-prediction/intro_batch_prediction_using_bigquery_input_vertex_ai_sdk.ipynb\">\n",
        "      <img width=\"32px\" src=\"https://upload.wikimedia.org/wikipedia/commons/9/91/Octicons-mark-github.svg\" alt=\"GitHub logo\"><br> View on GitHub\n",
        "    </a>\n",
        "  </td>\n",
        "</table>\n",
        "\n",
        "<div style=\"clear: both;\"></div>\n",
        "\n",
        "<b>Share to:</b>\n",
        "\n",
        "<a href=\"https://www.linkedin.com/sharing/share-offsite/?url=https%3A//github.com/GoogleCloudPlatform/generative-ai/blob/main/gemini/batch-prediction/intro_batch_prediction_using_bigquery_input_vertex_ai_sdk.ipynb\" target=\"_blank\">\n",
        "  <img width=\"20px\" src=\"https://upload.wikimedia.org/wikipedia/commons/8/81/LinkedIn_icon.svg\" alt=\"LinkedIn logo\">\n",
        "</a>\n",
        "\n",
        "<a href=\"https://bsky.app/intent/compose?text=https%3A//github.com/GoogleCloudPlatform/generative-ai/blob/main/gemini/batch-prediction/intro_batch_prediction_using_bigquery_input_vertex_ai_sdk.ipynb\" target=\"_blank\">\n",
        "  <img width=\"20px\" src=\"https://upload.wikimedia.org/wikipedia/commons/7/7a/Bluesky_Logo.svg\" alt=\"Bluesky logo\">\n",
        "</a>\n",
        "\n",
        "<a href=\"https://twitter.com/intent/tweet?url=https%3A//github.com/GoogleCloudPlatform/generative-ai/blob/main/gemini/batch-prediction/intro_batch_prediction_using_bigquery_input_vertex_ai_sdk.ipynb\" target=\"_blank\">\n",
        "  <img width=\"20px\" src=\"https://upload.wikimedia.org/wikipedia/commons/5/53/X_logo_2023_original.svg\" alt=\"X logo\">\n",
        "</a>\n",
        "\n",
        "<a href=\"https://reddit.com/submit?url=https%3A//github.com/GoogleCloudPlatform/generative-ai/blob/main/gemini/batch-prediction/intro_batch_prediction_using_bigquery_input_vertex_ai_sdk.ipynb\" target=\"_blank\">\n",
        "  <img width=\"20px\" src=\"https://redditinc.com/hubfs/Reddit%20Inc/Brand/Reddit_Logo.png\" alt=\"Reddit logo\">\n",
        "</a>\n",
        "\n",
        "<a href=\"https://www.facebook.com/sharer/sharer.php?u=https%3A//github.com/GoogleCloudPlatform/generative-ai/blob/main/gemini/batch-prediction/intro_batch_prediction_using_bigquery_input_vertex_ai_sdk.ipynb\" target=\"_blank\">\n",
        "  <img width=\"20px\" src=\"https://upload.wikimedia.org/wikipedia/commons/5/51/Facebook_f_logo_%282019%29.svg\" alt=\"Facebook logo\">\n",
        "</a>            "
      ]
    },
    {
      "cell_type": "markdown",
      "metadata": {
        "id": "84f0f73a0f76"
      },
      "source": [
        "| | |\n",
        "|-|-|\n",
        "|Author(s) | [Eric Dong](https://github.com/gericdong) |"
      ]
    },
    {
      "cell_type": "markdown",
      "metadata": {
        "id": "tvgnzT1CKxrO"
      },
      "source": [
        "## Overview\n",
        "\n",
        "Different from getting online (synchronous) responses, where you are limited to one input request at a time, the batch predictions with the Gemini API in Vertex AI allow you to send a large number of multimodal requests to a Gemini model in a single batch request. Then, the model responses asynchronously populate to your storage output location in [Cloud Storage](https://cloud.google.com/storage/docs/introduction) or [BigQuery](https://cloud.google.com/bigquery/docs/storage_overview).\n",
        "\n",
        "Batch predictions are generally more efficient and cost-effective than online predictions when processing a large number of inputs that are not latency sensitive.\n",
        "\n",
        "To learn more, see the [Get batch predictions for Gemini](https://cloud.google.com/vertex-ai/generative-ai/docs/multimodal/batch-prediction-gemini) page.\n",
        "\n",
        "### Objectives\n",
        "\n",
        "In this tutorial, you learn how to make batch predictions with the Gemini API in Vertex AI. This tutorial uses **BigQuery** as an input source and an output location.\n",
        "\n",
        "You will complete the following tasks:\n",
        "\n",
        "- Preparing batch inputs and an output location\n",
        "- Submitting a batch prediction job\n",
        "- Retrieving batch prediction results\n"
      ]
    },
    {
      "cell_type": "markdown",
      "metadata": {
        "id": "61RBz8LLbxCR"
      },
      "source": [
        "## Get started"
      ]
    },
    {
      "cell_type": "markdown",
      "metadata": {
        "id": "No17Cw5hgx12"
      },
      "source": [
        "### Install Vertex AI SDK and other required packages\n"
      ]
    },
    {
      "cell_type": "code",
      "execution_count": 1,
      "metadata": {
        "id": "tFy3H3aPgx12",
        "outputId": "db115eb5-11b9-431e-daf4-a31c8e8abae0",
        "colab": {
          "base_uri": "https://localhost:8080/"
        }
      },
      "outputs": [
        {
          "output_type": "stream",
          "name": "stdout",
          "text": [
            "\u001b[2K   \u001b[90m━━━━━━━━━━━━━━━━━━━━━━━━━━━━━━━━━━━━━━━━\u001b[0m \u001b[32m7.3/7.3 MB\u001b[0m \u001b[31m30.2 MB/s\u001b[0m eta \u001b[36m0:00:00\u001b[0m\n",
            "\u001b[?25h\u001b[33m  WARNING: The script tb-gcp-uploader is installed in '/root/.local/bin' which is not on PATH.\n",
            "  Consider adding this directory to PATH or, if you prefer to suppress this warning, use --no-warn-script-location.\u001b[0m\u001b[33m\n",
            "\u001b[0m"
          ]
        }
      ],
      "source": [
        "%pip install --upgrade --user --quiet google-cloud-aiplatform"
      ]
    },
    {
      "cell_type": "markdown",
      "metadata": {
        "id": "R5Xep4W9lq-Z"
      },
      "source": [
        "### Restart runtime\n",
        "\n",
        "To use the newly installed packages in this Jupyter runtime, you must restart the runtime. You can do this by running the cell below, which restarts the current kernel.\n",
        "\n",
        "The restart might take a minute or longer. After it's restarted, continue to the next step."
      ]
    },
    {
      "cell_type": "code",
      "execution_count": 2,
      "metadata": {
        "id": "XRvKdaPDTznN",
        "outputId": "d4b395a2-0030-47a9-f864-c3a1aca0c078",
        "colab": {
          "base_uri": "https://localhost:8080/"
        }
      },
      "outputs": [
        {
          "output_type": "execute_result",
          "data": {
            "text/plain": [
              "{'status': 'ok', 'restart': True}"
            ]
          },
          "metadata": {},
          "execution_count": 2
        }
      ],
      "source": [
        "import IPython\n",
        "\n",
        "app = IPython.Application.instance()\n",
        "app.kernel.do_shutdown(True)"
      ]
    },
    {
      "cell_type": "markdown",
      "metadata": {
        "id": "SbmM4z7FOBpM"
      },
      "source": [
        "<div class=\"alert alert-block alert-warning\">\n",
        "<b>⚠️ The kernel is going to restart. Wait until it's finished before continuing to the next step. ⚠️</b>\n",
        "</div>\n"
      ]
    },
    {
      "cell_type": "markdown",
      "metadata": {
        "id": "dmWOrTJ3gx13"
      },
      "source": [
        "### Authenticate your notebook environment (Colab only)\n",
        "\n",
        "If you're running this notebook on Google Colab, run the cell below to authenticate your environment."
      ]
    },
    {
      "cell_type": "code",
      "execution_count": 2,
      "metadata": {
        "id": "NyKGtVQjgx13"
      },
      "outputs": [],
      "source": [
        "import sys\n",
        "\n",
        "if \"google.colab\" in sys.modules:\n",
        "    from google.colab import auth\n",
        "\n",
        "    auth.authenticate_user()"
      ]
    },
    {
      "cell_type": "markdown",
      "metadata": {
        "id": "DF4l8DTdWgPY"
      },
      "source": [
        "### Set Google Cloud project information\n",
        "\n",
        "To get started using Vertex AI, you must have an existing Google Cloud project and [enable the Vertex AI API](https://console.cloud.google.com/flows/enableapi?apiid=aiplatform.googleapis.com).\n",
        "\n",
        "Learn more about [setting up a project and a development environment](https://cloud.google.com/vertex-ai/docs/start/cloud-environment)."
      ]
    },
    {
      "cell_type": "code",
      "execution_count": 3,
      "metadata": {
        "id": "Nqwi-5ufWp_B"
      },
      "outputs": [],
      "source": [
        "import os\n",
        "\n",
        "PROJECT_ID = \"quix-423515\"  # @param {type:\"string\", isTemplate: true}\n",
        "if PROJECT_ID == \"[your-project-id]\":\n",
        "    PROJECT_ID = str(os.environ.get(\"GOOGLE_CLOUD_PROJECT\"))\n",
        "\n",
        "LOCATION = os.environ.get(\"GOOGLE_CLOUD_REGION\", \"us-central1\")"
      ]
    },
    {
      "cell_type": "markdown",
      "metadata": {
        "id": "EdvJRUWRNGHE"
      },
      "source": [
        "## Code Examples"
      ]
    },
    {
      "cell_type": "markdown",
      "metadata": {
        "id": "5303c05f7aa6"
      },
      "source": [
        "### Import libraries"
      ]
    },
    {
      "cell_type": "code",
      "execution_count": 4,
      "metadata": {
        "id": "6fc324893334"
      },
      "outputs": [],
      "source": [
        "from datetime import datetime\n",
        "import time\n",
        "\n",
        "from google.cloud import bigquery\n",
        "import vertexai\n",
        "from vertexai.batch_prediction import BatchPredictionJob\n",
        "from vertexai.generative_models import GenerativeModel"
      ]
    },
    {
      "cell_type": "markdown",
      "metadata": {
        "id": "a49110dbce84"
      },
      "source": [
        "### Initialize Vertex AI SDK"
      ]
    },
    {
      "cell_type": "code",
      "execution_count": 5,
      "metadata": {
        "id": "a4582394ea28"
      },
      "outputs": [],
      "source": [
        "vertexai.init(project=PROJECT_ID, location=LOCATION)"
      ]
    },
    {
      "cell_type": "markdown",
      "metadata": {
        "id": "e43229f3ad4f"
      },
      "source": [
        "### Load model\n",
        "\n",
        "You can find a list of the Gemini models that support batch predictions in the [Multimodal models that support batch predictions](https://cloud.google.com/vertex-ai/generative-ai/docs/multimodal/batch-prediction-gemini#multimodal_models_that_support_batch_predictions) page.\n",
        "\n",
        "This tutorial uses the Gemini 1.5 Pro (`gemini-1.5-pro-002`) model."
      ]
    },
    {
      "cell_type": "code",
      "execution_count": 6,
      "metadata": {
        "id": "cf93d5f0ce00"
      },
      "outputs": [],
      "source": [
        "MODEL_ID = \"gemini-1.5-flash-002\"  # @param {type:\"string\", isTemplate: true}\n",
        "\n",
        "model = GenerativeModel(MODEL_ID)"
      ]
    },
    {
      "cell_type": "markdown",
      "metadata": {
        "id": "1_xZADsak23H"
      },
      "source": [
        "### Prepare batch inputs\n",
        "\n",
        "The input for batch requests specifies the items to send to your model for prediction.\n",
        "\n",
        "Batch requests for Gemini accept BigQuery storage sources and Cloud Storage sources. You can learn more about the batch input formats for BigQuery and Cloud Storage sources in the [Batch text generation](https://cloud.google.com/vertex-ai/generative-ai/docs/multimodal/batch-prediction-gemini#prepare_your_inputs) page.\n",
        "\n",
        "This tutorial uses **BigQuery** as an example. To use a BigQuery table as the input, you must ensure the following:\n",
        "\n",
        "- The BigQuery dataset must be created in a specific region (e.g. `us-central1`). Multi-region location (e.g. `US`) is not supported.\n",
        "- The input table must have a column named `request` in `JSON` or `STRING` type.\n",
        "- The content in the `request` column must be valid JSON. This JSON data represents your input for the model.\n",
        "- The content in the JSON instructions must match the structure of a [GenerateContentRequest](https://cloud.google.com/vertex-ai/generative-ai/docs/model-reference/inference).\n",
        "- Your input table can have column data types other than `request`. These columns can have BigQuery data types except for the following: `array`, `struct`, `range`, `datetime`, and `geography`. These columns are ignored for content generation but included in the output table. The system reserves two column names for output: `response` and `status`. These are used to provide information about the outcome of the batch prediction job.\n",
        "- Only public YouTube and Cloud Storage bucket URIs in the `fileData` or `file_data` field are supported in batch prediction.\n",
        "- Each request that you send to a model can include parameters that control how the model generates a response. Learn more about Gemini parameters in the [Experiment with parameter values](https://cloud.google.com/vertex-ai/generative-ai/docs/learn/prompts/adjust-parameter-values) page.\n"
      ]
    },
    {
      "cell_type": "markdown",
      "metadata": {
        "id": "3d4b751610f0"
      },
      "source": [
        "This is an example BigQuery table:"
      ]
    },
    {
      "cell_type": "code",
      "execution_count": 7,
      "metadata": {
        "id": "uWb8QzxwbH6W"
      },
      "outputs": [],
      "source": [
        "INPUT_DATA = \"bq://storage-samples.generative_ai.batch_requests_for_multimodal_input_2\"  # @param {type:\"string\"}"
      ]
    },
    {
      "cell_type": "markdown",
      "metadata": {
        "id": "b7aeba876320"
      },
      "source": [
        "You can query the BigQuery table to review the input data."
      ]
    },
    {
      "cell_type": "code",
      "execution_count": 8,
      "metadata": {
        "id": "1414f03a7999",
        "outputId": "35f45d55-01bd-46e5-e257-fc02aafc2870",
        "colab": {
          "base_uri": "https://localhost:8080/",
          "height": 197
        }
      },
      "outputs": [
        {
          "output_type": "execute_result",
          "data": {
            "text/plain": [
              "                                             request\n",
              "0  {\"contents\": [{\"role\": \"user\", \"parts\": [{\"tex...\n",
              "1  {\"contents\": [{\"role\": \"user\", \"parts\": [{\"tex..."
            ],
            "text/html": [
              "\n",
              "  <div id=\"df-8e5aa170-d1c9-44cc-b9fd-922784924ccd\" class=\"colab-df-container\">\n",
              "    <div>\n",
              "<style scoped>\n",
              "    .dataframe tbody tr th:only-of-type {\n",
              "        vertical-align: middle;\n",
              "    }\n",
              "\n",
              "    .dataframe tbody tr th {\n",
              "        vertical-align: top;\n",
              "    }\n",
              "\n",
              "    .dataframe thead th {\n",
              "        text-align: right;\n",
              "    }\n",
              "</style>\n",
              "<table border=\"1\" class=\"dataframe\">\n",
              "  <thead>\n",
              "    <tr style=\"text-align: right;\">\n",
              "      <th></th>\n",
              "      <th>request</th>\n",
              "    </tr>\n",
              "  </thead>\n",
              "  <tbody>\n",
              "    <tr>\n",
              "      <th>0</th>\n",
              "      <td>{\"contents\": [{\"role\": \"user\", \"parts\": [{\"tex...</td>\n",
              "    </tr>\n",
              "    <tr>\n",
              "      <th>1</th>\n",
              "      <td>{\"contents\": [{\"role\": \"user\", \"parts\": [{\"tex...</td>\n",
              "    </tr>\n",
              "  </tbody>\n",
              "</table>\n",
              "</div>\n",
              "    <div class=\"colab-df-buttons\">\n",
              "\n",
              "  <div class=\"colab-df-container\">\n",
              "    <button class=\"colab-df-convert\" onclick=\"convertToInteractive('df-8e5aa170-d1c9-44cc-b9fd-922784924ccd')\"\n",
              "            title=\"Convert this dataframe to an interactive table.\"\n",
              "            style=\"display:none;\">\n",
              "\n",
              "  <svg xmlns=\"http://www.w3.org/2000/svg\" height=\"24px\" viewBox=\"0 -960 960 960\">\n",
              "    <path d=\"M120-120v-720h720v720H120Zm60-500h600v-160H180v160Zm220 220h160v-160H400v160Zm0 220h160v-160H400v160ZM180-400h160v-160H180v160Zm440 0h160v-160H620v160ZM180-180h160v-160H180v160Zm440 0h160v-160H620v160Z\"/>\n",
              "  </svg>\n",
              "    </button>\n",
              "\n",
              "  <style>\n",
              "    .colab-df-container {\n",
              "      display:flex;\n",
              "      gap: 12px;\n",
              "    }\n",
              "\n",
              "    .colab-df-convert {\n",
              "      background-color: #E8F0FE;\n",
              "      border: none;\n",
              "      border-radius: 50%;\n",
              "      cursor: pointer;\n",
              "      display: none;\n",
              "      fill: #1967D2;\n",
              "      height: 32px;\n",
              "      padding: 0 0 0 0;\n",
              "      width: 32px;\n",
              "    }\n",
              "\n",
              "    .colab-df-convert:hover {\n",
              "      background-color: #E2EBFA;\n",
              "      box-shadow: 0px 1px 2px rgba(60, 64, 67, 0.3), 0px 1px 3px 1px rgba(60, 64, 67, 0.15);\n",
              "      fill: #174EA6;\n",
              "    }\n",
              "\n",
              "    .colab-df-buttons div {\n",
              "      margin-bottom: 4px;\n",
              "    }\n",
              "\n",
              "    [theme=dark] .colab-df-convert {\n",
              "      background-color: #3B4455;\n",
              "      fill: #D2E3FC;\n",
              "    }\n",
              "\n",
              "    [theme=dark] .colab-df-convert:hover {\n",
              "      background-color: #434B5C;\n",
              "      box-shadow: 0px 1px 3px 1px rgba(0, 0, 0, 0.15);\n",
              "      filter: drop-shadow(0px 1px 2px rgba(0, 0, 0, 0.3));\n",
              "      fill: #FFFFFF;\n",
              "    }\n",
              "  </style>\n",
              "\n",
              "    <script>\n",
              "      const buttonEl =\n",
              "        document.querySelector('#df-8e5aa170-d1c9-44cc-b9fd-922784924ccd button.colab-df-convert');\n",
              "      buttonEl.style.display =\n",
              "        google.colab.kernel.accessAllowed ? 'block' : 'none';\n",
              "\n",
              "      async function convertToInteractive(key) {\n",
              "        const element = document.querySelector('#df-8e5aa170-d1c9-44cc-b9fd-922784924ccd');\n",
              "        const dataTable =\n",
              "          await google.colab.kernel.invokeFunction('convertToInteractive',\n",
              "                                                    [key], {});\n",
              "        if (!dataTable) return;\n",
              "\n",
              "        const docLinkHtml = 'Like what you see? Visit the ' +\n",
              "          '<a target=\"_blank\" href=https://colab.research.google.com/notebooks/data_table.ipynb>data table notebook</a>'\n",
              "          + ' to learn more about interactive tables.';\n",
              "        element.innerHTML = '';\n",
              "        dataTable['output_type'] = 'display_data';\n",
              "        await google.colab.output.renderOutput(dataTable, element);\n",
              "        const docLink = document.createElement('div');\n",
              "        docLink.innerHTML = docLinkHtml;\n",
              "        element.appendChild(docLink);\n",
              "      }\n",
              "    </script>\n",
              "  </div>\n",
              "\n",
              "\n",
              "<div id=\"df-0291d0b1-7f0c-4a4f-a492-a5b937b5436d\">\n",
              "  <button class=\"colab-df-quickchart\" onclick=\"quickchart('df-0291d0b1-7f0c-4a4f-a492-a5b937b5436d')\"\n",
              "            title=\"Suggest charts\"\n",
              "            style=\"display:none;\">\n",
              "\n",
              "<svg xmlns=\"http://www.w3.org/2000/svg\" height=\"24px\"viewBox=\"0 0 24 24\"\n",
              "     width=\"24px\">\n",
              "    <g>\n",
              "        <path d=\"M19 3H5c-1.1 0-2 .9-2 2v14c0 1.1.9 2 2 2h14c1.1 0 2-.9 2-2V5c0-1.1-.9-2-2-2zM9 17H7v-7h2v7zm4 0h-2V7h2v10zm4 0h-2v-4h2v4z\"/>\n",
              "    </g>\n",
              "</svg>\n",
              "  </button>\n",
              "\n",
              "<style>\n",
              "  .colab-df-quickchart {\n",
              "      --bg-color: #E8F0FE;\n",
              "      --fill-color: #1967D2;\n",
              "      --hover-bg-color: #E2EBFA;\n",
              "      --hover-fill-color: #174EA6;\n",
              "      --disabled-fill-color: #AAA;\n",
              "      --disabled-bg-color: #DDD;\n",
              "  }\n",
              "\n",
              "  [theme=dark] .colab-df-quickchart {\n",
              "      --bg-color: #3B4455;\n",
              "      --fill-color: #D2E3FC;\n",
              "      --hover-bg-color: #434B5C;\n",
              "      --hover-fill-color: #FFFFFF;\n",
              "      --disabled-bg-color: #3B4455;\n",
              "      --disabled-fill-color: #666;\n",
              "  }\n",
              "\n",
              "  .colab-df-quickchart {\n",
              "    background-color: var(--bg-color);\n",
              "    border: none;\n",
              "    border-radius: 50%;\n",
              "    cursor: pointer;\n",
              "    display: none;\n",
              "    fill: var(--fill-color);\n",
              "    height: 32px;\n",
              "    padding: 0;\n",
              "    width: 32px;\n",
              "  }\n",
              "\n",
              "  .colab-df-quickchart:hover {\n",
              "    background-color: var(--hover-bg-color);\n",
              "    box-shadow: 0 1px 2px rgba(60, 64, 67, 0.3), 0 1px 3px 1px rgba(60, 64, 67, 0.15);\n",
              "    fill: var(--button-hover-fill-color);\n",
              "  }\n",
              "\n",
              "  .colab-df-quickchart-complete:disabled,\n",
              "  .colab-df-quickchart-complete:disabled:hover {\n",
              "    background-color: var(--disabled-bg-color);\n",
              "    fill: var(--disabled-fill-color);\n",
              "    box-shadow: none;\n",
              "  }\n",
              "\n",
              "  .colab-df-spinner {\n",
              "    border: 2px solid var(--fill-color);\n",
              "    border-color: transparent;\n",
              "    border-bottom-color: var(--fill-color);\n",
              "    animation:\n",
              "      spin 1s steps(1) infinite;\n",
              "  }\n",
              "\n",
              "  @keyframes spin {\n",
              "    0% {\n",
              "      border-color: transparent;\n",
              "      border-bottom-color: var(--fill-color);\n",
              "      border-left-color: var(--fill-color);\n",
              "    }\n",
              "    20% {\n",
              "      border-color: transparent;\n",
              "      border-left-color: var(--fill-color);\n",
              "      border-top-color: var(--fill-color);\n",
              "    }\n",
              "    30% {\n",
              "      border-color: transparent;\n",
              "      border-left-color: var(--fill-color);\n",
              "      border-top-color: var(--fill-color);\n",
              "      border-right-color: var(--fill-color);\n",
              "    }\n",
              "    40% {\n",
              "      border-color: transparent;\n",
              "      border-right-color: var(--fill-color);\n",
              "      border-top-color: var(--fill-color);\n",
              "    }\n",
              "    60% {\n",
              "      border-color: transparent;\n",
              "      border-right-color: var(--fill-color);\n",
              "    }\n",
              "    80% {\n",
              "      border-color: transparent;\n",
              "      border-right-color: var(--fill-color);\n",
              "      border-bottom-color: var(--fill-color);\n",
              "    }\n",
              "    90% {\n",
              "      border-color: transparent;\n",
              "      border-bottom-color: var(--fill-color);\n",
              "    }\n",
              "  }\n",
              "</style>\n",
              "\n",
              "  <script>\n",
              "    async function quickchart(key) {\n",
              "      const quickchartButtonEl =\n",
              "        document.querySelector('#' + key + ' button');\n",
              "      quickchartButtonEl.disabled = true;  // To prevent multiple clicks.\n",
              "      quickchartButtonEl.classList.add('colab-df-spinner');\n",
              "      try {\n",
              "        const charts = await google.colab.kernel.invokeFunction(\n",
              "            'suggestCharts', [key], {});\n",
              "      } catch (error) {\n",
              "        console.error('Error during call to suggestCharts:', error);\n",
              "      }\n",
              "      quickchartButtonEl.classList.remove('colab-df-spinner');\n",
              "      quickchartButtonEl.classList.add('colab-df-quickchart-complete');\n",
              "    }\n",
              "    (() => {\n",
              "      let quickchartButtonEl =\n",
              "        document.querySelector('#df-0291d0b1-7f0c-4a4f-a492-a5b937b5436d button');\n",
              "      quickchartButtonEl.style.display =\n",
              "        google.colab.kernel.accessAllowed ? 'block' : 'none';\n",
              "    })();\n",
              "  </script>\n",
              "</div>\n",
              "\n",
              "    </div>\n",
              "  </div>\n"
            ],
            "application/vnd.google.colaboratory.intrinsic+json": {
              "type": "dataframe",
              "variable_name": "df",
              "summary": "{\n  \"name\": \"df\",\n  \"rows\": 2,\n  \"fields\": [\n    {\n      \"column\": \"request\",\n      \"properties\": {\n        \"dtype\": \"string\",\n        \"num_unique_values\": 2,\n        \"samples\": [\n          \"{\\\"contents\\\": [{\\\"role\\\": \\\"user\\\", \\\"parts\\\": [{\\\"text\\\": \\\"List objects in this image.\\\"}, {\\\"file_data\\\": {\\\"file_uri\\\": \\\"gs://cloud-samples-data/generative-ai/image/gardening-tools.jpeg\\\", \\\"mime_type\\\": \\\"image/jpeg\\\"}}]}],\\\"generationConfig\\\":{\\\"temperature\\\": 0.4}}\",\n          \"{\\\"contents\\\": [{\\\"role\\\": \\\"user\\\", \\\"parts\\\": [{\\\"text\\\": \\\"List objects in this image.\\\"}, {\\\"file_data\\\": {\\\"file_uri\\\": \\\"gs://cloud-samples-data/generative-ai/image/office-desk.jpeg\\\", \\\"mime_type\\\": \\\"image/jpeg\\\"}}]}],\\\"generationConfig\\\":{\\\"temperature\\\": 0.4}}\"\n        ],\n        \"semantic_type\": \"\",\n        \"description\": \"\"\n      }\n    }\n  ]\n}"
            }
          },
          "metadata": {},
          "execution_count": 8
        },
        {
          "output_type": "display_data",
          "data": {
            "text/plain": [
              "<google.colab._quickchart_helpers.SectionTitle at 0x7fe1df160c10>"
            ],
            "text/html": [
              "<h4 class=\"colab-quickchart-section-title\">Categorical distributions</h4>\n",
              "<style>\n",
              "  .colab-quickchart-section-title {\n",
              "      clear: both;\n",
              "  }\n",
              "</style>"
            ]
          },
          "metadata": {}
        },
        {
          "output_type": "display_data",
          "data": {
            "text/plain": [
              "from matplotlib import pyplot as plt\n",
              "import seaborn as sns\n",
              "_df_0.groupby('request').size().plot(kind='barh', color=sns.palettes.mpl_palette('Dark2'))\n",
              "plt.gca().spines[['top', 'right',]].set_visible(False)"
            ],
            "text/html": [
              "      <div class=\"colab-quickchart-chart-with-code\" id=\"chart-cc472391-d147-4530-8626-45a6020e04eb\">\n",
              "        <img style=\"width: 180px;\" src=\"data:image/png;base64,iVBORw0KGgoAAAANSUhEUgAAB3oAAAGZCAYAAABvxTD/AAAAOnRFWHRTb2Z0d2FyZQBNYXRwbG90\n",
              "bGliIHZlcnNpb24zLjEwLjAsIGh0dHBzOi8vbWF0cGxvdGxpYi5vcmcvlHJYcgAAAAlwSFlzAAAP\n",
              "YQAAD2EBqD+naQAAeCVJREFUeJzt3Xd4VFX+x/HPkCCwUpVdaSolUlInDUI1gSzBiICIFJEuRXQF\n",
              "lb6IkaIgSFFUUASUokgxIlKkKkhniTTpREFEWDoaIIT5/ZFn7i+TzExmQkK47Pv1PD6YuWXOnHtP\n",
              "ufd7z7kWm81mEwAAAAAAAAAAAADANArkdwIAAAAAAAAAAAAAAN4h0AsAAAAAAAAAAAAAJkOgFwAA\n",
              "AAAAAAAAAABMhkAvAAAAAAAAAAAAAJgMgV4AAAAAAAAAAAAAMBkCvQAAAAAAAAAAAABgMgR6AQAA\n",
              "AAAAAAAAAMBkCPQCAAAAAAAAAAAAgMkQ6AUAAAAAAAAAAAAAkyHQCwAAAAAAAAB3qUmTJuV3EgAA\n",
              "QB4h0AsAAAAAAAAAd6lffvklv5MAAADyCIFeAAAAAAAAAAAAADAZAr0AAAAAAAAAAAAAYDIEegEA\n",
              "AAAAAAAAAADAZAj0AgAAAAAAAAAAAIDJEOgFAAAAAAAAAAAAAJMh0AsAAAAAAAAAAAAAJkOgFwAA\n",
              "AAAAAAAAAABMhkAvAAAAAAAAAAAAAJgMgV4AAAAAAAAAAAAAMBkCvQAAAAAAAAAAAABgMgR6AQAA\n",
              "AAAAAAAAAMBkCPQCAAAAAAAAAAAAgMkQ6AUAAAAAAAAAAAAAkyHQCwAAAAAAAAAAAAAmQ6AXAAAA\n",
              "AAAAAAAAAEyGQC8AAAAAAAAAAAAAmAyBXgAAAAAAAAAAAAAwGQK9AAAAAAAAAAAAAGAyBHoBAAAA\n",
              "AAAAAAAAwGQI9AIAAAAAAAAAAACAyRDoBQAAAAAAAAAAAACTIdALAAAAAAAAAAAAACZDoBcAAAAA\n",
              "AAAAAAAATIZALwAAAAAAAAAAAACYDIFeAAAAAAAAAAAAADAZAr0AAAAAAAAAAAAAYDIEegEAAAAA\n",
              "AAAAAADAZAj0AgAAAAAAAAAAAIDJEOgFAAAAAAAAAAAAAJMh0AsAAAAAAAAAAAAAJkOgFwAAAAAA\n",
              "AAAAAABMhkAvAAAAAAAAAAAAAJgMgV4AAAAAAAAAAAAAMBkCvQAAAAAAAAAAAABgMgR6AQAAAAAA\n",
              "AAAAAMBkCPQCAAAAAAAAAAAAgMkQ6AUAAAAAAAAAAAAAkyHQCwAAAAAAAAAAAAAmQ6AXAAAAAAAA\n",
              "AAAAAEyGQC8AAAAAAAAAAAAAmAyBXgAAAAAAAAAAAAAwGQK9AAAAAAAAAAAAAGAyBHoBAAAAAAAA\n",
              "AAAAwGQI9AIAAAAAAAAAAACAyVhsNpstvxMBAAAAAAAAAMh9XQIsGhzJeB8AAHJb1Zlp+Z0ERvQC\n",
              "AAAAAAAAAAAAgNkQ6AUAAAAAAAAAAAAAkyHQCwAAAAAAAAAAAAAmQ6AXAAAAAAAAAAAAAEyGQC8A\n",
              "AAAAAAAAAAAAmAyBXgAAAAAAAAAAAAAwGQK9AAAAAAAAAAAAAGAyBHoBAAAAAAAAAAAAwGQI9AIA\n",
              "AAAAAAAAAACAyRDoBQAAAAAAAAAAAACTIdALAAAAAAAAAAAAACZDoBcAAAAAAAAAAAAATIZALwAA\n",
              "AAAAAAAAAACYDIFeAAAAAAAAAAAAADAZAr0AAAAAAAAAAAAAYDIEegEAAAAAAAAAAADAZAj0AgAA\n",
              "AAAAAAAAAIDJEOgFAAAAAAAAAAAAAJMh0AsAAAAAAAAAAAAAJkOgFwAAAAAAAAAAAABMhkAvAAAA\n",
              "AAAAAAAAAJgMgV4AAAAAAAAAAAAAMBkCvQAAAAAAAAAAAABgMgR6AQAAAAAAAAAAAMBkCPQCAAAA\n",
              "AAAAAAAAgMkQ6AUAAAAAAAAAAAAAkyHQCwAAAAAAAAAAAAAmQ6AXAAAAAAAAAAAAAEyGQC8AAAAA\n",
              "AAAAAAAAmAyBXgAAAAAAAAAAAAAwGQK9AAAAAAAAAAAAAGAyBHoBAAAAAAAAAAAAwGQI9AIAAAAA\n",
              "AAAAAACAyRDoBQAAAAAAAAAAAACTIdALAAAAAAAAAAAAACZDoBcAAAAAAAAAAAAATIZALwAAAAAA\n",
              "AAAAAACYDIFeAAAAAAAAAAAAADAZAr0AAAAAAAAAAAAAYDIEegEAAAAAAAAAAADAZAj0AgAAAAAA\n",
              "AAAAAIDJEOgFAAAAAAAAAAAAAJO5qwK9EydOlJ+fnzp27Gh8Fh0dreTkZHXu3Fnr1q3Lk+9NTEzU\n",
              "5s2bb3k/ycnJmjJlikfrVqxY0eHf7ERHR6tSpUoaPnx4lmXPPPOMqlWrpnfffTfH+3f2fYmJidmu\n",
              "Zz8uCQkJmjlzZrbrr1u3Tp07d1ZycrKio6NzlLac8DadM2fOVEJCgpHe3DZz5kzt378/2/Xs6bWn\n",
              "Jzvr1q1TkSJFZLVadfr0aYdl33//vapXr67Q0FBdv37d5f6TkpL0xRdfeP2bMsv8G3Ny7O3nr70e\n",
              "kNKP5cSJE7OsO2XKFI0dO9bt/m6lrFssFl24cMHpMqvVqsuXL+dov1J63Xfq1Cmvttm+fbvatGnj\n",
              "9XetW7dOy5cvN/5OTk5WyZIlXa7v7W8bNmyY5syZ43W6bgdn9eKMGTNUvXp1NW/eXGlpaV7v09Ny\n",
              "JUndunWTv7+/nnzySS1evFgvv/yypPRjYrVac/qzsujXr59H9YU35eFW6m5P2/Zz586pbt26slqt\n",
              "GjVqlMO5lJCQoL59+3r1vTl18uRJ1a9f3/jbWT3kjrf1tje2b9+uxx57zPh73LhxGjNmjMv1c/vc\n",
              "kqQ9e/bkuG+Rl1y1DbklIiLCo36ot/V5amqqKlasaNQfdypnfYNbbfu84ayNb9q0qbZs2XLHtTun\n",
              "T59WQEBAtuu9/vrrql69umrVqpXl75y28Z66cuWKLBZLjrefOXOmWrRoke16ef07pJxdU93KteVz\n",
              "zz2ntWvXer2dt7y5rsyp3Oqb36488ZS9rczcnucFZ/mxYsUKBQYGql69erp06ZLD+rt371ZwcLCs\n",
              "Vqt++eUXh2Xz5s2Tv7+/Q7/8hRdekJ+fn0aMGJHlu2NiYnTfffe5bPtu9X7A7ZZX7cyNGzf0xhtv\n",
              "qHr16goMDJTValWPHj1cXtd5ylW/PjveHBdP7/Pk5FryTpFb9x6cyUmffMmSJapevboeeeQRtWzZ\n",
              "MksZzuz06dN64IEHHNrEs2fPymq1qkaNGtq+fXuWbWrVqqWqVavq22+/9ebnAACAu5xvficgN02d\n",
              "OlWffPKJHn300dv6vYmJibJarYqKirql/dgvyHv16pVLKXM0YcKELDdV/vjjDy1atEiXLl3SPffc\n",
              "4/G+bty4IV/fu+r0cSknwZu8lJaWppkzZ6pkyZKqXr16ru+/WrVqSkpKyvL5F198oXbt2un11193\n",
              "u31SUpISExPVtm3bW0pHXv5GZzwpd7lV1jNzlt/emDhxoqKjo1WmTBmPt4mIiNC8efO8/q5169bp\n",
              "woULatKkiUfre/vbnD2Mcifr0qWLOnbsqH/84x86cuSIqlat6tX2nparP/74Q1988YUuXbokHx8f\n",
              "SVKzZs1ynO7ckFflITNP2/aVK1eqaNGi+vHHH/M0Pe7cuHFD5cqV0/r16/MtDe589dVXDv2AxMRE\n",
              "ffLJJ/mXIGThbX2+bt061a5d26s+XF7Irl/orG9wq22fNzK38VeuXNHPP/+smjVrGoHSO8XXX3/t\n",
              "Uf3+9ttv6+jRoypbtqzTv3PSxt9pctpXuZNNmzbttnxPXl9X5qbblSeesreV+dWex8XFKS4uTlar\n",
              "VZs3b1bjxo2NZUFBQdq1a5datGihFStWqEePHsayNm3aqFatWg4PaL3//vtKSkpSfHy8XnvtNYfv\n",
              "Wbt2bZ48kJxX8qud6datm86dO6dNmzapVKlSstlsWrBggc6dO+f2YVd3bke/3pv7PDm5lrxdcnLc\n",
              "c2vf3rpy5Yq6detmPMj74osvasSIEW4fJu/Zs6eaNm2qs2fPGp/df//9SkpKUt++fbVo0SJFREQ4\n",
              "bLNlyxZNnDhRc+bM0eOPP55r6QcAAOZ2V43oTUlJUYkSJRw+u+++++Tj46MSJUoYHdyLFy/queee\n",
              "U2BgoEJCQtS1a1dJ6R2zrl27KjAwUIGBgXrjjTeM/URHR6tfv36qX7++qlSpYlw0L126VIsXL9bY\n",
              "sWNltVqNC9VZs2apVq1aCgsLU4MGDfTTTz9JSg9excbGql27dgoKClJERISOHj0qKf0m1IEDB2S1\n",
              "WtWsWTPdvHlTL774omrUqKGQkBCFh4fr6tWrkqS///3vDv/eSp4VLlw4S+ff2f4rVqyogQMHqmbN\n",
              "murUqZPb/Mro8uXL6t69u2rWrKng4GD16NHDGHliPy5FixZVkSJFsk3vPffcoxIlSsjHx0f33Xef\n",
              "pKwjCjOOMkhJSVGbNm3k7++vkJAQhwtld8coJiZGTz31lIKCgrR161av01mkSBEVLVrUSK+UfjM2\n",
              "MDBQHTt2VGBgoMLDw42Lz1OnTikmJkbh4eEKCAjQiy++qJs3bzpNz5tvvqnt27fr5ZdfltVq1dKl\n",
              "S7V582aFh4fLarUqMDBQH374oSQZ6bWn51Y4K1+Z93/69GkNGzZMa9euldVqNcrJtm3b1LBhQ0VE\n",
              "RCg0NFTz58+XJI0aNUrNmjWTzWbTtWvXFB4erjlz5mjatGlZfqOzY58d+/lrrwfcyTjiz1l+uirr\n",
              "GR0+fFixsbHGk/aZR7WPGzdOoaGhqlq1qsPooYyjfQ8dOqTHH39ckZGRCg4O1uTJk431Nm3apHr1\n",
              "6ikkJETBwcH6+uuvNXz4cJ08eVJt2rSR1WpVUlKSvvnmGyMNgYGB+vrrr7OkNeNIPXsZev311xUe\n",
              "Hi4/Pz8tXbo0yzZJSUmaMmWK5syZI6vV6hCUdbWt/be5q88yyjiqLiEhQa1bt9YTTzyhqlWrqmnT\n",
              "ptqzZ4/i4uJUtWpVtWvXzignc+fOVa1atRQaGqqQkBB98803xj7379+v2rVrKyAgQC1btlTjxo2N\n",
              "kfnu6qfMXNW7Pj4+KlasmP766y+n27njSbm6cOGCYmJidPXqVYWHh2v06NFuR0OtWLFC9erVU3h4\n",
              "uGrWrJntKJnff/9dcXFx8vf3V2xsrE6cOGEsW716tWrXrq3Q0FAFBAQYQUFn5cFdPZaT8usujzK3\n",
              "7atWrVL//v21efNmWa1WrVq1yu0IzXHjxqlmzZoKCwtTkyZNsoyKyaxixYoONwszjs6Mjo7WSy+9\n",
              "pNq1a6tx48ZZ2iRv6iHJeb2dmpqq3r17q2rVqoqKitKrr75qjJ46dOiQ6tatq5CQEAUFBWno0KEu\n",
              "97148WI1b95cUvoNwAsXLqhatWqSpDFjxigoKEghISGKiopyej7PmjVLwcHBCg4O1uOPP67ffvtN\n",
              "UtbReUuWLHEY3ZWQkKBHHnlE4eHhbkddnDlzRo0bN1ZQUJCCg4PVpUsXSekjmOrVq6ewsDD5+/tr\n",
              "5MiRDvv2tJ7o3Lmzunbtqjp16qhq1arq1KmTUlJSsqQjNTVVgwYNUs2aNWW1WtW6dWudP39eUnpA\n",
              "wt/fX1arVUFBQdqyZYvT37Jx40ajDu7SpYtu3LhhLBs/frwiIyNltVoVGRmpTZs2SZLT+txVGbRL\n",
              "TEzUk08+6fCdQUFB6tq1q0JCQozz9NSpU2rdurVq1qyZ5TypWLGihg0bptq1a6tSpUoO+Zvddhn7\n",
              "ha7qAFd9A3v7MGfOHDVt2tTYr81mU+XKlY1+mav+WmbZnScZR/UvW7ZMcXFxslgsd1y7k/GYrlix\n",
              "QmFhYQoODtajjz6qffv2SZLq1Kmjq1evqnHjxnrppZey/J15NP63336ryMhIhYSEyGq1Guetq/6Z\n",
              "M1OnTtUjjzyi0NBQTZgwwWGZq/24KtMZnTx5UpGRkZo+fXqWZc76Kv369VNwcLACAgK0atUqY113\n",
              "bd/rr78uPz8/RUZGaujQoQ4j2by9pnJ2bdm5c2f16NFDsbGxqlSpkrp27aqtW7cqOjpalStX1iuv\n",
              "vGJsn3HWI2+2c1cWncl8XblgwQKH66C0tDQ9/PDD2rdvn9trFMl1GcytvnlO88RVXSrlvD6U/r+t\n",
              "zNyeWywWDR061Glf3l1Zmjp1qqpWraqwsDCNGDHCYTS8uz5CyZIlXfYt3S27lXUzclY2zNrOSOkj\n",
              "tevUqaPg4GDVrFnTeDDQ3XXQ4cOHNX/+fM2YMUOlSpUy9vn000+rcuXKkqSxY8cqICBAQUFBat++\n",
              "vS5evCgpvT1p06aNnnjiCfn7+6thw4Y6d+6cR/363KizPL3P46zv4a4f5G19969//UuRkZHy8/PT\n",
              "q6++KpvNdluPuySVLl3aGDGfed/ufqu391KWLVum0NBQ40H13r176/PPP3e5/ieffKJKlSq5nDng\n",
              "VuuAa9eu6dKlSw7/pd3M9mcAAACTumuGZJ45c0ZnzpzR/fff7/D5okWLJEmTJk0yPuvbt6+KFCmi\n",
              "Xbt2qUCBAjpz5owkacSIEbp27Zp27dqllJQU1atXT9WrVzemDDty5IjWrl2r1NRU+fv7a9OmTYqP\n",
              "j1ezZs1ktVqNG0g//vijPv/8c/3www8qVKiQ1q9fr2eeeUZ79+6VlH4hmJSUpEqVKmnQoEEaM2aM\n",
              "pk6dqilTpqhv377GhfXOnTu1evVq7d27VwUKFNDFixeNjvq2bdsc/pXSpzwtV66cV09u79mzR6VL\n",
              "l87yubP9S+nTyGzZskUWi0UDBw50m192r776qurXr6+PP/5YNptN3bt316RJk9S/f3/juNSpU8dY\n",
              "f/v27Ro2bJjTQFOdOnWMde3H1p3ly5frwoULxo2xc+fOScr+GG3ZskU7d+40boDXrl07SzrdyZgH\n",
              "GbfZu3evJk2apM8++0xffvml2rZtq59//lklS5bUN998o6JFiyotLU3Nmzc3ljtLz+rVq9W3b1/j\n",
              "grB58+bq16+f2rVrJ0nGxUm/fv2ypO3kyZOKj4/36gnnGzdu6MCBA4qNjXX43Nn+hw8frsTEROOG\n",
              "zYULF9SjRw8tXbpUZcuW1X//+1+FhYWpTp06GjJkiOLj4/XOO+/o2LFjioiIUPv27SVJs2fPdviN\n",
              "GfMy47GPj4/X8OHDszzpKv3/+evJuZLRW2+9lSU/S5UqlaWsZ9a+fXt17dpVPXv21KFDhxQVFaXQ\n",
              "0FA9/PDDktIvOnfu3KmjR48qIiJCdevWdbhwT0tLU7t27TR79mxVr15df/31l6KiolSrVi1VqVJF\n",
              "LVq00IIFC1S/fn3dvHlTFy5cUPPmzTV9+nTNmzfPuBnaqVMnTZ06VbVr19bNmzeznTJKSn8AJjg4\n",
              "WG+88YaWL1+uPn36KD4+3mEd+wX0hQsXjJviycnJHm37008/uazP3Nm+fbt27NihkiVLKjo6Ws89\n",
              "95xWrlypIkWKKCIiQsuWLdPjjz+uuLg4tWvXThaLRcnJyYqKitIvv/yiQoUKqUOHDurdu7e6dOmi\n",
              "n3/+WaGhoXrmmWckua+fMnNVL0rpT17v27fPq2luvSlXS5cuNW6+SHI5hfzRo0eVkJCgFStWqHjx\n",
              "4jp8+LDq16+v5ORkFSpUyOk2L730kmrWrKkVK1bot99+k9VqNW5QhIWFacOGDfLx8dG5c+cUGhqq\n",
              "uLg4p23f1atXXdZjrupud+VX8q5tz1z3zJ492+k+586dqwMHDmjTpk3y8fHRrFmz1Lt371ua/uzg\n",
              "wYP64YcfVLBgwSzTMzurh6ZMmaKTJ086HcHu7Ph/9NFHOnTokNFGZSxfkydPVtOmTTV48GBJ/9/O\n",
              "ZW5LDx06pOLFixujNTKOGvz000+1cOFCbdiwQSVKlND58+eznC979uxR//79tWPHDpUvX16jRo3S\n",
              "c889p2XLlrnNm2+//Vbz58/Xjh07VKxYMXXo0MHlurNnz1alSpX03XffOfyWihUravXq1SpUqJBS\n",
              "UlJUp04dxcbGGqPJPa0npPT2dPPmzfrb3/6mFi1aaMKECRoyZIhDOsaOHat7771XW7dulZTePxw6\n",
              "dKjef/99vfrqq9q/f7/Kli2r1NRUXbt2LcvvuH79utq0aaMZM2YoNjZW3333nUOZ7dChg3EjdPPm\n",
              "zercubP279+vYcOGZanPz58/77QMVqhQQTabTcuXL9fo0aON7/zss88UExOjtWvXasaMGcZ3durU\n",
              "SUOGDNGjjz6qGzduqGnTppo/f76efvppSelt9aZNm/Tf//5XVapUUZcuXVS+fPlst8vYL3RXB2Qu\n",
              "nxm1bNlSffr00alTp1SmTBmtW7dOpUqVUkhISLb9tYyyO08y+uqrr1yOZMvPdufy5cvav3+/IiMj\n",
              "dfr0aT3zzDNat26dgoKCNGfOHLVq1Up79+7Vxo0bZbFYtH79eiMQlfHvjFMKHzx4UF26dNEPP/yg\n",
              "6tWrKzU1VX/99Zfb/ln58uUd8mTPnj16/fXXtXPnTpUtW9ahzLjbz5dffum0TNvt3r1bbdu21YQJ\n",
              "ExyCkK5cvHhRNWrU0Lhx47R582Y1a9ZMR44c0ZkzZ1y2fatWrdLChQu1c+dOFS1a1HjA185d2+6M\n",
              "s/bH/lvWrl2rAgUKyN/fX+fPn9fKlSt1/fp1Va5cWd26dXM6Jben22VXFjPLfF2Zlpamfv366cCB\n",
              "A6pWrZoWL14sPz8/+fv76/Tp0y6vUTZu3OiyDOakbfekb+5pnriqS2+lPszYVjp73YKzvnzJkiVd\n",
              "loHz588rISFBO3fuVJkyZbLM4OIuP+x9S2cP9tmXecIeEDpx4oQqVKjg0TYZ02b/18ztzPXr19Wy\n",
              "ZUt9/PHHiouL04YNG/TUU0/p8OHDklxfB/3nP//RI4884vR+iZQe2Js+fbo2bdpknAeDBg0yHrre\n",
              "smWLduzYofvvv19t27bV1KlTNXjwYLf9+m+//dbrOsvZfSBP7/M463u8+eabLvtBknf13b59+7Rx\n",
              "40alpqaqQYMG+vzzz/XMM8/cluPuSsZ9u/ut3t5L+fXXX43rfim9X/L77787HTl87NgxTZkyRT/8\n",
              "8IPLmSvuv/9+bdmyRTdv3lSBAgWyLDty5IiuX7/u8pr6rbfeyjIYI8T5qQwAAO4Cd0Wg9+2331ZC\n",
              "QoK6du2qBx98MNv1lyxZoi1bthidJfvTjKtWrdI777yjAgUK6N5771XHjh21cuVKI2jXpk0b+fr6\n",
              "ytfXV1arVUeOHDECgBl9/fXX+umnnxymgjt37pwxasT+JKv9/9977z2n6axcubJu3Lihrl27KiYm\n",
              "Ro8//niWDl5G3k552qJFCy1btkyffvqpx9t07tzZeAo5u/yyS0xM1KZNmzR+/HhJ6U+XuhvVFBER\n",
              "4TTImxMhISH6+eef1bt3bz366KPGzfHsjlGdOnWMoGpuqlixoho1aiRJat26tXr06KHjx4+rdOnS\n",
              "GjhwoDZs2CCbzabTp08rMDDQCPRml56YmBiNGDFChw4dUsOGDVWvXj2X65YrV86rIO/atWv19NNP\n",
              "q2LFii5vJrmzceNGHT161OG9kJJ04MABlS9fXrNnz1ZoaKhKlSrlcmSUO7l1rmTkTX7aXb58Wf/5\n",
              "z3+Mp8MfeeQR1atXT+vXrzcu+J577jlJ6WW7QYMG+uGHHxwCvQcOHNDevXsdpp66fPmy9u3bp9On\n",
              "T6tatWrGE78FChRwOXqiUaNG6tOnj1q1aqXGjRt7FHwsXLiwWrZsKSm9Xjpy5Ei223izrbf1mV3j\n",
              "xo2NJ+jDwsJUqFAhFStWTJIUGhqqQ4cOSUq/WG7fvr1OnDghX19fnTt3TseOHTPOd/v7XWvUqOFw\n",
              "PL2tn1yxjwL7+OOPPXrP3K2WK1eWL1+uw4cPq0GDBsZnBQoU0K+//qpHHnnE6TarV6/WuHHjJEnl\n",
              "y5d3mDru7Nmz6tatmw4ePChfX1+dPXtWe/bscXqj8ObNm27rMWfclV9v23ZPJSYmatu2bQoPD5eU\n",
              "O9PzP/vssypYsKDH63s7lebq1asdvqNTp07GrAINGjRQ//79deXKFT366KPGgwOZ21Jn0zbbb/4s\n",
              "WbJEvXr1MkZO28tcRmvXrlWTJk2MAFDv3r01fPjwbPNv9erVat26tYoXLy4pfYq6DRs2OF03KipK\n",
              "EyZM0KuvvqoGDRoYU8SnpKSod+/eSkpKUoECBXT8+HElJSUZATxP6wkpve21L+vWrZvefffdLIHe\n",
              "xMREXbx4UQsXLpSUfoPYXlc3atRIHTp00BNPPKHHHnvM6XTt+/fvl6+vr3EsGjdubIz8kdIf5Bs1\n",
              "apTOnj0rX19fHThwQCkpKU5nDHFXBrdt26bq1aurWLFi2rVrl3x9fRUTEyMpvR2rUqWKJOnPP//U\n",
              "6tWr9ccffxj7vXLlig4cOGD8bQ9Cli5dWpUrV9axY8dUsmTJbLfL2C/MSR0gpc+C8tRTT2nWrFnq\n",
              "37+/Zs6caYz8dNdfy5xf2Z0ndqmpqdq4caPL/m9+tjvLli1TkyZNZLFYtGXLFgUFBSkoKEhS+sNk\n",
              "L7zwgn777TevgjUrV65UkyZNjAd4ChYsqBIlSmjp0qVu+2cZrVmzRo899pgxLfTzzz+vt956S5L7\n",
              "fp6rMi2lP/zYrFkzJSYmKiQkxKPf4uvrawToo6KiVK5cOe3cuVN79uxx2fatXr1aTz/9tEO5z4v3\n",
              "wTZv3lyFCxeWlD69blxcnAoWLKiCBQvK399fhw4dchro9WQ7+0MM7spidnx8fNS7d2+9//77evfd\n",
              "d/X+++/rxRdfNJa7ukbxpgza3Wrf3NO8dFWXHjp0KMf1Yea2MjNnffnSpUu7LAN79uxRkyZNjIes\n",
              "unfv7vE1+6BBgxQbG6tPPvkkS9/aPpPIgw8+qC1btqhcuXIu92MfCe/n56d+/fo5jKb1hr1tM2M7\n",
              "c+DAARUoUEBxcXGSpHr16umBBx5QUlKSKlSokOProFWrVqlNmzbGAzfPP/+8Q7++SZMmxsOKtWvX\n",
              "1u7du7PdZ07qrMznVE7u82Tkrh8keVffdezY0Vj27LPPatWqVWrevPltOe6uZNx3dr81M2/vpThj\n",
              "s9nUtWtXTZ482e1scZ06ddIHH3ygsmXL6ttvv3V4eOaxxx7T2LFj9cADD+jTTz91OvX34MGDHUZY\n",
              "S9KLtUpkWQ8AANwd7opA74ABA9SmTRvVqFFDb7zxRpaRPzmVcVolSUZnVkq/WM44DV9GNptNnTp1\n",
              "0ptvvul0uaf7KVGihPbs2aPvv/9ea9eu1eDBg/XDDz/Iz8/P25/iVGJioj7//HONGTPG406yuylr\n",
              "MueXnc1m08KFC71+d6WnfH19HW40Z5wOtnLlytq3b5/WrFmjVatWacCAAUpKSsr2GN3qNMeeslgs\n",
              "slgsGj9+vE6fPq0tW7aocOHCeuWVVxx+R3bp6du3r5o3b65Vq1ZpyJAhCgwM1AcffJAraYyJidGJ\n",
              "EydUq1YtLV++3Jj201M2m00BAQHauHGj0+W//PKLbt68qcuXL+vPP/90KB/5Jbfy01WZcLXcZrPp\n",
              "vvvuc3rx6M1ow/Hjx2vv3r1au3atOnXqpPbt22vAgAFutylUqJCRHh8fH6+CX55sm9P6LHN96ar+\n",
              "bNu2rUaPHq1WrVpJSp8Cz9nU0JJjvudW/TRu3DhNnDhRPXv29Gj9Wy1XrthsNv3zn//U3Llzc7yP\n",
              "jPnTq1cvxcfHa+HChbJYLAoLC3OZr9nVY97Kq7bdZrNp8ODBDu+1y467dka6fW2GXcZj9NRTT6lO\n",
              "nTpauXKlJk+erIkTJzq9yZ6YmGjc8Lt8+bIOHDjgciS1t2nILn9cbTd69GhjKucxY8YoLi5OSUlJ\n",
              "WrVqlRYtWqTXXntNO3fu1JAhQ1S6dGnt3LlTvr6+atmypcN3eFpPZJceO5vNpvfee8/pCMOFCxdq\n",
              "x44dWrduneLj4zVy5EiVLl3aGPXx9NNP64knnnD5PfZRRWvXrlVkZKQuXbqkEiVK6Nq1a05v9rkr\n",
              "g9kFJOzfaZ8mcfPmzS7bWGd55sl2Gc/9W6kDunbtqi5duuj555/XkiVLjKmB3fXXWrVqZYzGWr16\n",
              "dbbnid2aNWtUt25dlw9n5Ge789VXX2UZvZVX3PXPMpfNzDL/Hnf9PGdlWkq/WX7t2jWtWbPG40Cv\n",
              "MxaLxau2L7u+WU7ltB7yZDtPyqInunfvLn9/f3Xs2FGHDx92+05Q+zVKdtdMecGTPHFXlzrjaX2Y\n",
              "sa30hD2PXJWBPXv2OE2HJyZPnqzevXsbD1VkNH36dEVHR2vOnDnZ7jMlJUUTJkxQUlKS8cBHbjFT\n",
              "O+Mq7ZLra5mwsDAdOnRIZ8+e9agfmtP7R97s0xM5uc+Tkbt+kHTr/a68Pu6Zr0fd9duz+63eeOih\n",
              "h7Ry5Urj7+TkZJUtWzbLaN5Lly5p165dxgCJK1eu6K+//lKjRo20evVqY72FCxfq73//u3bv3p1l\n",
              "H+vXr9fJkyd14sQJ3XvvvU7TU6hQoSwz9PjcVS/vAwAAGd01zfzDDz+s0qVLG++Lc6dZs2YaN26c\n",
              "8Y4t+9TN9idmbTab/vzzT82aNcujDl/x4sWNd7HY9z979mz9+uuvktKfQNy+fbvX+zlz5oz+/PNP\n",
              "NW7cWG+++aYqVqzo8RRNnqpVq1a27yZ0xdP8atGihcaMGWN0+M+fP2/cmMsNZcqUkc1mM/Lms88+\n",
              "M5adOHFCFovFOOY2m03Hjx/P8THKaOvWrcaT755KTk42nshdsGCBHnjgAVWoUEHnz59XmTJlVLhw\n",
              "YZ06dcrtO9KkrOfKgQMHVKlSJXXv3l1DhgzR5s2bvUpXdgoXLqyQkBCPzpXMaatTp46OHTvm8B61\n",
              "pKQkXb9+XZcuXVLbtm01a9Ys9erVSx07djQu/DLv53ZylZ/u0lSsWDGFhYUZU5gdPnxYGzZscBhd\n",
              "Yl+WnJys9evXZ3kfT7Vq1VS8eHGHadAOHz6sc+fOqU6dOjp06JDWr18vKf2ctU+BmDld+/fvN95f\n",
              "9Pzzz+fq+ZDT45LX9dn58+eNmRJmz55tTF9evHhxhYSEGNP4HjhwwGE0YW7VT8ePH1dkZKTDZ5Mn\n",
              "Tzam03XGm3Llqbi4OK1atUq7du0yPrNPReZKbGys8W7E33//XYsXLzaWnT9/Xg8//LAsFot++OEH\n",
              "h3djZj4XvK3HPOFN2+6pFi1aaMqUKUb5SU1NNQIPrvj5+RkzDmzdutWrUVS5oWHDhpo7d65SU1OV\n",
              "mprq0M4dOnRIDzzwgDp27Ki3337baXn//fffdeXKFWNU99KlS/XYY48ZNw+bNWumKVOmGMfzwoUL\n",
              "WR7YiImJ0fLly3Xy5ElJ6dOCNmrUSD4+PvLz8zNe43Djxg2HYEtsbKzmz5+vy5cvy2az6aOPPjKW\n",
              "DRo0SElJSUpKSlJcXJyOHTumokWLqnXr1nrvvfd08OBBXblyRefPn1eFChWMEVsZb6J5a8GCBbpy\n",
              "5YrS0tKMqZUzs0/pbH/32V9//aW9e/fqxo0bOnLkiCIiItSvXz+1atVKW7duVWxsrPE7/v3vf6t6\n",
              "9eq6ceOG0d6vWrXKGB109epVXb9+XQ899JAkZZnVxVm5clUGM75zuVq1akpNTdX3338vSfr++++N\n",
              "uqxo0aKKiYnR6NGjjW3tNwfd8XY7d3VAdm2HfbRgv379FBsba8xY4a6/tmDBAiPf77//fo/Pk4zv\n",
              "wL0Vud3uXL9+XZs2bTLebx0VFaXdu3cbgaIvvvhC5cuXzzLaNjtxcXFasWKF9u/fLym9zrt48aLb\n",
              "/lnmstmwYUMtX75cp06dkpRe/u3c7cdVmZbSZw5YuXKlEhMTPR7heOPGDc2aNUtSel188uRJWa1W\n",
              "t21fw4YNtXDhQl25ckU2m83pu4AzGzx4sCZPnuxRmm6HnJRhZ2WuVKlSat68uZ588kn17NnTYQYT\n",
              "V9couXHNlBfc1aU5rQ8zt5XOOOvLuysDMTExWrFihU6fPi1JWd6z7o6zvmXGZRERER4FAc+cOaOC\n",
              "BQtmG+T96quvjJkInDFzO1OtWjXdvHnTaBc2btyoU6dOZTvrkZ+fn5566il169bNeOer/WGdo0eP\n",
              "KjY2Vl9++aXxmpypU6fecsAwJ3WWM97c58mcd676QTkxe/ZspaamKiUlRXPnzlVsbGyeH/eM/fZF\n",
              "ixbpzz//dJm+3PytTZo00X/+8x+jvf3ggw+cBtpLlCihs2fPKjk5WcnJyRo3bpwaN27sEOSV0su5\n",
              "1WrNEuS1L/P393cZ5AUAAP977ppAr5T+5J49eOvOhAkTdO3aNQUFBclqtRpT9r322msqWLCggoKC\n",
              "VKtWLTVr1kytW7fOdn8dOnTQl19+qdDQUE2bNk3169fX22+/rSeffFIhISEKCAgwnop3Jzg4WAEB\n",
              "AQoMDFSzZs10/Phx/fOf/1RwcLACAwMVGBiYZUqojIYNG+Zw48UTnuaZM57m14QJE1SkSBFZrVYF\n",
              "BwerUaNGTt95ZLd9+/Ys7/d0x9fXV++9956aNm2qyMhIpaamGst2796tunXrKiQkRKGhoerQoYOC\n",
              "g4NzfIwySk5OdjvVjjMBAQGaOXOmgoKC9NZbb+nzzz+XxWJRnz59tGXLFuN9U85uPGfUo0cPvfnm\n",
              "m7JarVq6dKkmT56sgIAAhYaGaujQoXrnnXdcbmu/KeYtT8+VRo0a6dq1awoODlavXr1UqlQpffvt\n",
              "t3rzzTcVEhIif39/DRo0SDdv3lS3bt3Uvn17xcTEqH///rJYLHr77bed/kZX4uPjvb7hlJCQoAoV\n",
              "Khj/ZQ5IucrPzGU9szlz5mjevHkKCQlRq1atNG3aNOMGlJQ+RWxoaKgaN26sd99912FaKIvFIl9f\n",
              "Xy1ZskSLFi0y6oNu3bopJSVFpUqV0ldffaVBgwYpODhYYWFhxjTRL730krp3726862nIkCFG+mfN\n",
              "mqWEhASv8sedJ598UklJSbJarV5NF+9tfeatSZMmqVWrVgoNDdXOnTsd8v2zzz7Thx9+qMDAQA0c\n",
              "OFCRkZHGFGvu6qcpU6Zo2LBhHn3/zZs3s0z5vG/fvmyf/r+VOtgZPz8/zZ07Vz179lRISIhq1Khh\n",
              "vE/ZlUmTJmnz5s3GKJ+GDRsay0aPHq1BgwbJarVq+vTpDlM3Zi4P3tZjkmflN7fzqH379urcubNi\n",
              "YmIUEhIiq9WqNWvWuN1m5MiRev/99xUSEqLp06c7nX7TG96cW1L6dMcVK1aUv7+/6tatqypVqhjn\n",
              "8IIFCxQUFKTQ0FC1adPG6AdkbEszvo9XyjoStEOHDsbI4JCQEMXHx2cZFRUYGKixY8eqSZMmCg4O\n",
              "1vr16/Xxxx9LSg9IxcfHKzAwUNHR0Q43yePj49WqVSuFhYUpIiLCoWxmtm7dOoWHh8tqtapOnToa\n",
              "O3asSpQooaFDh2rGjBkKDg7WoEGDHM5Rb0VGRiouLk41atRQyZIlnb5z3V5P1KpVS8HBwYqKilJS\n",
              "UpLS0tLUtWtXBQYGymq1aseOHVmmxJOke+65R/PmzdPLL7+soKAgzZ071xixWLx4cY0cOVI1a9ZU\n",
              "eHh4lveqZa7PXZXB/fv3q1SpUvrHP/4hKX3UxhdffKGXXnpJQUFBmjFjhqpVq2acJ3PmzNHhw4cV\n",
              "GBiooKAgtWzZUmfPns02v7zZzl0dkLlv4EyXLl00depUY9pmSV711zw5T2w2m1asWOEwhXBO5Xa7\n",
              "s2bNGtWrV88Yafz3v/9dc+bMUceOHRUcHKwPP/xQ8+fP93p0l5+fn2bMmKFnn31WISEhqlWrlg4c\n",
              "OOC2f5ZZYGCgEhISVL9+fYWGhjqMEHK3H1dl2q5YsWJavny5Nm7cqP79+0vKej2T8ffaZwcJCQlR\n",
              "ly5dNHfuXBUrVsxt29e0aVM1b95cVqvVOA72Y+HKTz/9ZEy1e6fwtgxnvq606969u86cOaPu3bs7\n",
              "rO/qGiUn10w56Zt7y11dmtP6MHNbKWUdTemsL++uDAQFBWno0KGqW7euMSNDxjLgjrO+pSfLcrqu\n",
              "/f3Erpi5nbnnnnu0aNEivf766woODlbfvn21YMECj2ZkmT59ulF3BgQEyN/fX999953uu+8+PfbY\n",
              "Y+rSpYtq166toKAgXbp0yekIbG/kpM5ydh/Im/5z5r6Hq35QTtSoUUN169ZVUFCQ6tevbwQ+8/K4\n",
              "T5gwQX369FFYWJh27tzp9nrM29/q7l5KsWLFNG3aNLVo0UJ+fn46ceKEXnvtNWO51Wo1Hpj0RG7V\n",
              "AQAA4H+DxWYfPncXqFmzpoYMGeJ2Grv/VdHR0erbt2+WvLly5YpKlSqlU6dO5dq0mP8rXnjhBbVr\n",
              "186j97dK6Tew+/bte8vvdMlL7tI4YMAAXb9+PdugEbxz+vRpPfjgg0pJSfHonbXw3pUrV3TvvffK\n",
              "YrHo2LFjql27trZt25Zr7329fPmyypYtq4MHDzq8I61evXpatmyZ8Y4tZyhX2aNtT3f58mUVK1ZM\n",
              "qampat++vcLDwzVw4ECPtm3SpIlGjhypiIgIXb9+XVWrVtXhw4edjhC4m3Xu3FlWq9VpcNdsRo8e\n",
              "LV9fX2PKaOn/zxFJ2rZtm5o1a6YjR47ob3/7W34l846zefNmjRw5UkuWLMnT78lJu9OrVy/FxsYa\n",
              "U0FD+vLLL/Xxxx9r5cqVSk5OltVqNUbVecNeNmw2m1599VWlpKToww8/dLpuWlqaoqKitGXLlruy\n",
              "XzZu3Dj9/PPPDiNLzXCN4q2c1IcZ20opfVR4+/btjfdyWywWnT9/Ptugm7u0TJo0ScuXL9eyZcvc\n",
              "bpOamqrq1atr1qxZqlOnjsMym82mmJgY9ejRw3jvrZ2zcrJmzRr16tVLBw8ezPI9GdvFFi1aaOLE\n",
              "iW7fT0o7c3t4U2e5cifc53F1Dwqe6dixo6pXr24MTMlo2LBhOnXqlMNMOZ7oEmDR4Mi7r20DACC/\n",
              "VZ3p+SsQ88pddYdv2LBheuONN7Ro0SKHaQ2R/t6wwYMHa9euXQ6jiIoWLaqEhAQ1atRIXbt21Usv\n",
              "vZSPqTSX999/P7+TkOvuuecenT17VlarVd99950xUkhKHwHQs2dPhYaGasuWLVlGIcF727ZtU5s2\n",
              "bZSQkHBX3ky8U2QcKZSWlqYJEybkWpB3xowZmjhxov71r385BHklOUzV6QrlKnu07eliY2N17do1\n",
              "Xb16VfXq1fOqvV6+fLnx//fcc4/bWTVgDoMGDcry2cKFCzVhwgTZbDb5+vpq1qxZ3HzPJCoqKs+D\n",
              "vFLO2h1vZ+W5233wwQeaMGFCrvS3O3bsqOTkZF29elUBAQFu89rHx0fbtm275e+8EwUEBMhisTi0\n",
              "CXernNSHGfPl66+/1iuvvOLV7BuuDBo0SD/++KNSU1NVrlw5TZ061e36K1as0IABA/Too48qKirK\n",
              "Ydnu3bv17LPPqnLlyllGH8+bN08jR47UAw88YHz2wgsvaPPmzRoxYkSW74mJiVFycrLq1q0rKX1a\n",
              "++zQztwe3tRZrnCfx7zOnj2rRo0a6YEHHnD6fvRatWqpUKFCd9QrBgAAQP67q0b0AgCArJYuXer0\n",
              "afDBgwerTZs2+ZCiO8/w4cO1aNGiLJ8vXLhQVapUyYcUAQDgXkREhPG+Z7uAgADNmTMnn1IEALhT\n",
              "MaIXAIC8cSeM6CXQCwAAAAAAAAB3KQK9AADkjTsh0EsLDwAAAAAAAAAAAAAmQ6AXAAAAAAAAAAAA\n",
              "AEyGQC8AAAAAAAAAAAAAmAyBXgAAAAAAAAAAAAAwGQK9AAAAAAAAAAAAAGAyBHoBAAAAAAAAAAAA\n",
              "wGQI9AIAAAAAAAAAAACAyRDoBQAAAAAAAAAAAACTIdALAAAAAAAAAAAAACZDoBcAAAAAAAAAAAAA\n",
              "TIZALwAAAAAAAAAAAACYDIFeAAAAAAAAAAAAADAZAr0AAAAAAAAAAAAAYDIEegEAAAAAAAAAAADA\n",
              "ZAj0AgAAAAAAAAAAAIDJEOgFAAAAAAAAAAAAAJMh0AsAAAAAAAAAAAAAJkOgFwAAAAAAAAAAAABM\n",
              "hkAvAAAAAAAAAAAAAJgMgV4AAAAAAAAAAAAAMBkCvQAAAAAAAAAAAABgMgR6AQAAAAAAAAAAAMBk\n",
              "CPQCAAAAAAAAAAAAgMkQ6AUAAAAAAAAAAAAAkyHQCwAAAAAAAAAAAAAmQ6AXAAAAAAAAAAAAAEyG\n",
              "QC8AAAAAAAAAAAAAmAyBXgAAAAAAAAAAAAAwGQK9AAAAAAAAAAAAAGAyBHoBAAAAAAAAAAAAwGQI\n",
              "9AIAAAAAAAAAAACAyRDoBQAAAAAAAAAAAACTIdALAAAAAAAAAAAAACZDoBcAAAAAAAAAAAAATIZA\n",
              "LwAAAAAAAAAAAACYDIFeAAAAAAAAAAAAADAZAr0AAAAAAAAAAAAAYDK++Z0AAAAAAAAAAEDeKBX3\n",
              "sqqOH5/fyQAAAHmAEb0AAAAAAAAAAAAAYDIEegEAAAAAAAAAAADAZAj0AgAAAAAAAAAAAIDJEOgF\n",
              "AAAAAAAAAAAAAJMh0AsAAAAAAAAAAAAAJkOgFwAAAAAAAAAAAABMhkAvAAAAAAAAAAAAAJgMgV4A\n",
              "AAAAAAAAAAAAMBkCvQAAAAAAAAAAAABgMgR6AQAAAAAAAAAAAMBkCPQCAAAAAAAAAAAAgMkQ6AUA\n",
              "AAAAAAAAAAAAkyHQCwAAAAAAAAAAAAAmQ6AXAAAAAAAAAAAAAEyGQC8AAAAAAAAAAAAAmAyBXgAA\n",
              "AAAAAAAAAAAwGQK9AAAAAAAAAAAAAGAyBHoBAAAAAAAAAAAAwGQI9AIAAAAAAAAAAACAyRDoBQAA\n",
              "AAAAAAAAAACTIdALAAAAAAAAAAAAACZDoBcAAAAAAAAAAAAATIZALwAAAAAAAAAAAACYDIFeAAAA\n",
              "AAAAAAAAADAZAr0AAAAAAAAAAAAAYDIEegEAAAAAAAAAAADAZLwO9O7atcujzwAAAAAAAAAAAAAA\n",
              "ecPrQG/nzp09+gwAAAAAAAAAAAAAkDd8PV3x9OnTOnXqlFJSUrR7927ZbDZJ0sWLF/Xnn3/mWQIB\n",
              "AAAAAAAAAAAAAI48DvR+/vnnmjhxok6ePKlmzZoZnxcvXlwDBgzIk8QBAAAAAAAAAAAAALLyONDb\n",
              "p08f9enTRyNGjNBrr72Wl2kCAAAAAAAAAAAAALjh9Tt6mzRpor/++kuS9OWXX6pfv346efJkricM\n",
              "AAAAAAAAAAAAAOCc14He5557ToUKFdKhQ4f073//WwULFlSXLl3yIm0AAAAAAAAAAAAAACe8DvT6\n",
              "+PjIx8dHy5Yt0/PPP6+33npLp0+fzou0AQAAAAAAAAAAAACc8DrQe+3aNf3xxx/65ptvFB0dLUlK\n",
              "S0vL7XQBAAAAAAAAAAAAAFzwOtD78ssvq1q1aipRooTCwsJ05MgRlSpVKi/SBgAAAAAAAAAAAABw\n",
              "wmKz2Wy3soO0tDSlpaXpnnvuya00AQAAAAAAAABywSuvvKLx48fndzIAAEAe8HpE78WLF/Wvf/1L\n",
              "TzzxhCTpwIEDWrhwYa4nDAAAAAAAAAAAAADgnNeB3p49e+qBBx7QsWPHJEmVKlXSmDFjcj1hAAAA\n",
              "AAAAAAAAAADnvA70Hjx4UEOHDlXBggUlSUWKFNEtzv4MAAAAAAAAAAAAAPCC14HezO/iTUlJIdAL\n",
              "AAAAAAAAAAAAALeR14HemJgYjRo1SlevXtWqVavUqlUrtWzZMi/SBgAAAAAAAAAAAABwwutA74gR\n",
              "I1SgQAEVL15cQ4YMUd26dfXaa6/lRdoAAAAAAAAAAAAAAE5YbMy7DAAAAAAAAAB3pVdeeUXjx4/P\n",
              "72QAAIA84OvtBsOHD3f6+bBhw245MQAAAAAAAAAAAACA7Hkd6L18+bLx/1evXtXSpUtVu3btXE0U\n",
              "AAAAAAAAAAAAAMA1rwO9Y8eOdfg7ISFBnTt3zq30AAAAAAAAAAAAAACyUeBWd3D//ffr6NGjuZEW\n",
              "AAAAAAAAAAAAAIAHvB7R++677xr/n5aWpq1bt6pMmTK5migAAAAAAAAAAAAAgGteB3p37tz5/xv7\n",
              "+spqtapHjx65migAAAAAAAAAAAAAgGteB3pnzJiRF+kAAAAAAAAAAAAAAHjI60DvZ5995nZ5x44d\n",
              "c5wYAAAAAAAAAAAAAED2vA70zpkzR99//73q1asni8WiDRs26NFHH1WxYsVksVgI9AIAAAAAAAAA\n",
              "AABAHvM60Pu3v/1N27dvV2BgoCRp7969GjZsmObPn5/riQMAAAAAAAAAAAAAZFXA2w0OHz5sBHkl\n",
              "KSAgQIcOHcrVRAEAAAAAAAAAAAAAXPM60Fu8eHHNnDlTNptNNptNM2fOVNGiRfMibQAAAAAAAAAA\n",
              "AAAAJ7wO9E6fPl0ffPCBChUqpMKFC2vKlCmaMWNGXqQNAAAAAAAAAAAAAOCE1+/orVatmrZu3arL\n",
              "ly9LkooVK5briQIAAAAAAAAAAAAAuOb1iN4bN27onXfe0cCBA1WsWDEdOXJEa9asyYu0AQAAAAAA\n",
              "AAAAAACc8HpE74svvqi0tDRt2LBBknT//ferTZs22r59e64nDgAAAAAAAAAAAACQldeB3s2bNysp\n",
              "KUmhoaGSpJIlSyo1NTXXEwYAAAAAAAAAAAAAcM7rqZsLFy7s8HdaWppu3ryZawkCAAAAAAAAAAAA\n",
              "ALjndaA3ODhYs2fP1s2bN3X48GH16tVL0dHReZA0AAAAAAAAAAAAAIAzXgd6x48fr/Xr1+vUqVOq\n",
              "W7euChQooDFjxuRF2gAAAAAAAAAAAAAATnj1jt60tDSNGDFCU6dO1dSpU/MqTQAAAAAAAAAAAAAA\n",
              "N7wa0evj46O1a9fmVVoAAAAAAAAAAAAAAB7weurm+Ph4jRo1SidPntSlS5eM/wAAAAAAAAAAAAAA\n",
              "t4fFZrPZvNmgQIH/jw1bLBbZbDZZLBalpaXleuIAAAAAAAAAADn3yiuvaPz48fmdDAAAkAe8ekev\n",
              "JN28eTMv0gEAAAAAAAAAAAAA8JDXUzcDAAAAAAAAAAAAAPIXgV4AAAAAAAAAAAAAMBkCvQAAAAAA\n",
              "AAAAAABgMgR6AQAAAAAAAAAAAMBkCPQCAAAAAAAAAAAAgMkQ6AUAAAAAAAAAAAAAkyHQCwAAAAAA\n",
              "AAAAAAAmQ6AXAAAAAAAAAAAAAEyGQC8AAAAAAAAAAAAAmAyBXgAAAAAAAAAAAAAwGQK9AAAAAAAA\n",
              "AAAAAGAyBHoBAAAAAAAAAAAAwGQI9AIAAAAAAAAAAACAyRDoBQAAAAAAAAAAAACTIdALAAAAAAAA\n",
              "AAAAACZDoBcAAAAAAAAAAAAATIZALwAAAAAAAAAAAACYDIFeAAAAAAAAAAAAADAZAr0AAAAAAAAA\n",
              "AAAAYDIEegEAAAAAAAAAAADAZAj0AgAAAAAAAAAAAIDJEOgFAAAAAAAAAAAAAJMh0AsAAAAAAAAA\n",
              "AAAAJmOx2Wy2/E4EAAAAAAAAACD3FY2LVMm2jfI7GQAA3HVOdBmd30lgRC8AAAAAAAAAAAAAmA2B\n",
              "XgAAAAAAAAAAAAAwGQK9AAAAAAAAAAAAAGAyBHoBAAAAAAAAAAAAwGQI9AIAAAAAAAAAAACAyRDo\n",
              "BQAAAAAAAAAAAACTIdALAAAAAAAAAAAAACZDoBcAAAAAAAAAAAAATIZALwAAAAAAAAAAAACYDIFe\n",
              "AAAAAAAAAAAAADAZAr0AAAAAAAAAAAAAYDIEegEAAAAAAAAAAADAZAj0AgAAAAAAAAAAAIDJEOgF\n",
              "AAAAAAAAAAAAAJMh0AsAAAAAAAAAAAAAJkOgFwAAAAAAAAAAAABMhkAvAAAAAAAAAAAAAJgMgV4A\n",
              "AAAAAAAAAAAAMBkCvQAAAAAAAAAAAABgMgR6AQAAAAAAAAAAAMBkCPQCAAAAAAAAAAAAgMkQ6AUA\n",
              "AAAAAAAAAAAAkyHQCwAAAAAAAAAAAAAmQ6AXAAAAAAAAAAAAAEyGQC8AAAAAAAAAAAAAmAyBXgAA\n",
              "AAAAAAAAAAAwGQK9AAAAAAAAAAAAAGAyBHoBAAAAAAAAAAAAwGQI9AIAAAAAAAAAAACAyRDoBQAA\n",
              "AAAAAAAAAACTIdALAAAAAAAAAAAAACZDoBcAAAAAAAAAAAAATIZALwAAAAAAAAAAAACYDIFeAAAA\n",
              "AAAAAAAAADAZAr0AAAAAAAAAAAAAYDIEegEAAAAAAAAAAADAZAj0AgAAAAAAAAAAAIDJEOgFAAAA\n",
              "AAAAAAAAAJMh0AsAAAAAAAAAAAAAJkOgFwAAAAAAAAAAAABMhkAvAAAAAAAAAAAAAJgMgV4AAAAA\n",
              "AAAAAAAAMJk8D/ROnDhRfn5+6tixo/FZdHS0kpOT1blzZ61bty5PvjcxMVGbN2++5f0kJydrypQp\n",
              "Hq1bsWJFh3+zEx0drUqVKmn48OFZlj3zzDOqVq2a3n333Rzv39n3JSYmZrue/bgkJCRo5syZ2a6/\n",
              "bt06de7cWcnJyYqOjs5R2nLC23TOnDlTCQkJRnpz28yZM7V///5s17On156e7Kxbt05FihSR1WrV\n",
              "6dOnHZZ9//33ql69ukJDQ3X9+nWX+09KStIXX3zh9W/KLPNvzMmxt5+/9npASj+WEydOzLLulClT\n",
              "NHbsWLf7u5WybrFYdOHCBafLrFarLl++nKP9Sul136lTp7zaZvv27WrTpo3X37Vu3TotX77c+Ds5\n",
              "OVklS5Z0ub63v23YsGGaM2eO1+m6HZzVizNmzFD16tXVvHlzpaWleb1PT8uVJHXr1k3+/v568skn\n",
              "tXjxYr388suS0o+J1WrN6c/Kol+/fh7VF96Uh1upuz1t28+dO6e6devKarVq1KhRDudSQkKC+vbt\n",
              "69X35tTJkydVv359429n9ZA73tbb3ti+fbsee+wx4+9x48ZpzJgxLtfP7XNLkvbs2ZPjvkVectU2\n",
              "5JaIiAiP+qHe1uepqamqWLGiUX/cqZz1DW617fOGsza+adOm2rJlyx3X7pw+fVoBAQF5+h2e1vPu\n",
              "eNJv8taFCxc0evToW95PTuqu5557TmvXrr3l73YlJ33yW7nmyWk/Lyc8vS65Fd5e0zu7FrudeeKp\n",
              "21UPubo2ffLJJ+Xn56dPPvkkyzYvvPCC/Pz8NGLEiCzLYmJidN999xnt5u7duxUcHCyr1apffvnF\n",
              "Yd158+bJ39/f5fVCXvZ78krmtjq36sMdO3aoSZMmqly5siIiIlS3bl2P7qm4s3nzZgUFBSk0NFQr\n",
              "VqxQfHy8Dhw4kO123hyX232fIL/k5JrbU97ef/vrr7/Url07+fn5qWrVqlqwYEG227z++uuyWCxK\n",
              "SkoyPhs1apQeeeQR9erVK8v6t3qdCwAA7l6+ef0FU6dO1SeffKJHH300r7/KQWJioqxWq6Kiom5p\n",
              "P/ZAr7NOVm6YMGGCWrRo4fDZH3/8oUWLFunSpUu65557PN7XjRs35Oub54f0jnCndWrT0tI0c+ZM\n",
              "lSxZUtWrV8/1/VerVs2h82/3xRdfqF27dnr99dfdbp+UlKTExES1bdv2ltKRl7/RGU/KXW6V9cyc\n",
              "5bc3Jk6cqOjoaJUpU8bjbSIiIjRv3jyvv2vdunW6cOGCmjRp4tH63v42Zw+j3Mm6dOmijh076h//\n",
              "+IeOHDmiqlWrerW9p+Xqjz/+0BdffKFLly7Jx8dHktSsWbMcpzs35FV5yMzTtn3lypUqWrSofvzx\n",
              "xzxNjzs3btxQuXLltH79+nxLgztfffWVQz8gMTHR6c1d5B9v6/N169apdu3aXvXh8kJ2/UJnfYNb\n",
              "bfu8kbmNv3Llin7++WfVrFlTtWrVum3p8MTXX3+dq/V7XvXZ8+J6xR7oHTRoUK7vOzvTpk277d+Z\n",
              "l3Laz8uJ291nz6nbmSeeuBPqoa+++kqJiYl6++231a1bN4dl77//vpKSkhQfH6/XXnvNYdnatWsd\n",
              "AsZBQUHatWuXWrRooRUrVqhHjx7GsjZt2qhWrVq5/uBYXkpLSzP6285kbqtzoz7cu3ev4uLiNGPG\n",
              "DD3xxBOS0h8eXLly5S3t99NPP9UzzzyjwYMHS5Li4uJuOa2Z3e77BHnF2+Oem/v21rhx41SoUCEd\n",
              "PnxYx44dU61atRQTE6P777/f6fpbt27Vtm3b9PDDDzt8/u9//1svvPCC8eBG4cKFjWW3ep0LAADu\n",
              "Xnk+ojclJUUlSpRw+Oy+++6Tj4+PSpQoYdwEu3jxop577jkFBgYqJCREXbt2lZR+sdW1a1cFBgYq\n",
              "MDBQb7zxhrGf6Oho9evXT/Xr11eVKlWMzvzSpUu1ePFijR07Vlar1bhJMGvWLNWqVUthYWFq0KCB\n",
              "fvrpJ0npF8KxsbFq166dgoKCFBERoaNHj0pKv0A4cOCArFarmjVrpps3b+rFF19UjRo1FBISovDw\n",
              "cF29elWS9Pe//93h31vJs8KFC2e5Qehs/xUrVtTAgQNVs2ZNderUyW1+ZXT58mV1795dNWvWVHBw\n",
              "sHr06GE86Wk/LkWLFlWRIkWyTe8999yjEiVKyMfHR/fdd5+krCMKr1y5IovFYvy+Nm3ayN/fXyEh\n",
              "IWrcuLGxnrtjFBMTo6eeekpBQUHaunWr1+ksUqSIihYtaqRXSr8ZGxgYqI4dOyowMFDh4eHGTc5T\n",
              "p04pJiZG4eHhCggI0IsvvqibN286Tc+bb76p7du36+WXX5bVatXSpUu1efNmhYeHy2q1KjAwUB9+\n",
              "+KEkGem1p+dWOCtfmfd/+vRpDRs2TGvXrpXVajXKybZt29SwYUNFREQoNDRU8+fPl5T+BGmzZs1k\n",
              "s9l07do1hYeHa86cOZo2bVqW3+js2GfHfv7a6wF3Mo74c5afrsp6RocPH1ZsbKzxRHvmJ7DHjRun\n",
              "0NBQVa1a1eGp/YyjfQ8dOqTHH39ckZGRCg4O1uTJk431Nm3apHr16ikkJETBwcH6+uuvNXz4cJ08\n",
              "eVJt2rSR1WpVUlKSvvnmGyMNgYGB+vrrr7OkNeNoF3sZev311xUeHi4/Pz8tXbo0yzZJSUmaMmWK\n",
              "5syZI6vV6hCUdbWt/be5q88yyjiqLiEhQa1bt9YTTzyhqlWrqmnTptqzZ4/i4uJUtWpVtWvXzign\n",
              "c+fOVa1atRQaGqqQkBB98803xj7379+v2rVrKyAgQC1btlTjxo2Nkfnu6qfMXNW7Pj4+KlasmP76\n",
              "6y+n27njSbm6cOGCYmJidPXqVYWHh2v06NGaOXNmlgd37FasWKF69eopPDxcNWvWzHaE0u+//664\n",
              "uDj5+/srNjZWJ06cMJatXr1atWvXVmhoqAICAoygoLPy4K4ey0n5dZdHmdv2VatWqX///tq8ebOs\n",
              "VqtWrVrldoTmuHHjVLNmTYWFhalJkyZZRp9kVrFiRYegVMbRmdHR0XrppZdUu3ZtNW7cOEub5E09\n",
              "JDmvt1NTU9W7d29VrVpVUVFRevXVV40RXocOHVLdunUVEhKioKAgDR061OW+Fy9erObNm0tKf3jg\n",
              "woULqlatmiRpzJgxCgoKUkhIiKKiopyez7NmzVJwcLCCg4P1+OOP67fffpOkLOfjkiVLHEagJSQk\n",
              "6JFHHlF4eLjbkRxnzpxR48aNFRQUpODgYHXp0kVS+kihevXqKSwsTP7+/ho5cqTDvj2tJzp37qyu\n",
              "XbuqTp06qlq1qjp16qSUlJQs6UhNTdWgQYNUs2ZNWa1WtW7dWufPn5eUHgzy9/eX1WpVUFCQtmzZ\n",
              "4vS3bNy40aiDu3Tpohs3bhjLxo8fr8jISFmtVkVGRmrTpk2S5LQ+d1UG7RITE/Xkk086fGdQUJC6\n",
              "du2qkJAQ4zw9deqUWrdurZo1a2Y5TypWrKhhw4apdu3aqlSpkkP+Zrddxn6hqzrAVd/A3j7MmTNH\n",
              "TZs2NfZrs9lUuXJlo1/mqr+WWXbnScZR/cuWLVNcXJwsFssd1+5kPKZff/210W4OHDhQpUuXNmYG\n",
              "6Nevn3EeNWjQwGGElsVi0euvv67IyEgNHjzYbT3v7nzv3LmzevbsqUaNGqlq1apq2bKlw2gte566\n",
              "u76R0vsIfn5+ioyM1NChQ12OWOrVq5cuX74sq9WqiIgISe77VitWrFBYWJiCg4P16KOPat++fVn2\n",
              "6apeySzjbETu6gp3x8/dcfe2T+7umue1115TWFiYHnnkEf34449GfzkwMFB79uyR5Lyf58l2kudl\n",
              "TpLTPntQUJA2btxorPPRRx8ZI2mjo6P1r3/9S5GRkfLz89Orr74qm80myX194+ya3h1X12I5yRN3\n",
              "/Rt37XN2eemuHnrqqafUsGFDVa9eXU888YTOnj1rfJ+r8vr777+rcePG8vf3V+PGjdW2bVtjJKWz\n",
              "/LArWbKkyz6su2W5sb7kfb9Hytm9luy2y3z9701bnbE+TEtLU//+/Y17JP/617+MOsJdnTp69Gh1\n",
              "7drVCPJKUrly5dSpUydJ7utCi8WiN998UzVr1lSlSpU0Y8YMY5/z5s3T5MmTZbVadeHCBYc+bW7V\n",
              "WXlxn8Db+s7VfZbbddwlafLkycYDEM727eq3St7f35s3b56Rh5UqVVJ0dLS++uorp+v+9ddfevHF\n",
              "FzV16lSny0uWLCmbzeb02tzT69xr167p0qVLDv8pzebRbwEAAOaTp8M/z5w5ozNnzmR5gm3RokWS\n",
              "pEmTJhmf9e3bV0WKFNGuXbtUoEABnTlzRpI0YsQIXbt2Tbt27VJKSorq1aun6tWrGxemR44c0dq1\n",
              "a5Wamip/f39t2rRJ8fHxatasmaxWq9HJ+/HHH/X555/rhx9+UKFChbR+/Xo988wz2rt3r6T0zmxS\n",
              "UpIqVaqkQYMGacyYMZo6daqmTJmivn37Gp3SnTt3avXq1dq7d68KFCigixcvGhe227Ztc/hXSp/y\n",
              "tFy5cl49Ubpnzx6VLl06y+fO9i9JZ8+e1ZYtW2SxWDRw4EC3+WX36quvqn79+vr4449ls9nUvXt3\n",
              "TZo0Sf379zeOS506dYz1t2/frmHDhjkNNNWpU8dY135s3Vm+fLkuXLhg3Pg5d+6cpOyP0ZYtW7Rz\n",
              "507jBnjt2rWzpNOdjHmQcZu9e/dq0qRJ+uyzz/Tll1+qbdu2+vnnn1WyZEl98803Klq0qNLS0tS8\n",
              "eXNjubP0rF69Wn379jVurDdv3lz9+vVTu3btJMm44O/Xr1+WtJ08eVLx8fFejaS5ceOGDhw4oNjY\n",
              "WIfPne1/+PDhSkxMNC4+L1y4oB49emjp0qUqW7as/vvf/yosLEx16tTRkCFDFB8fr3feeUfHjh1T\n",
              "RESE2rdvL0maPXu2w2/MmJcZj318fLyGDx9u3BDMyH7+enKuZPTWW29lyc9SpUplKeuZtW/fXl27\n",
              "dlXPnj116NAhRUVFKTQ01Hhy1mKxaOfOnTp69KgxHVfGm51paWlq166dZs+ererVq+uvv/5SVFSU\n",
              "atWqpSpVqqhFixZasGCB6tevr5s3b+rChQtq3ry5pk+frnnz5hk3rzp16qSpU6eqdu3aunnzZvqF\n",
              "VjYuXryo4OBgvfHGG1q+fLn69Omj+Ph4h3XsF+UXLlwwbkYlJyd7tO1PP/3ksj5zZ/v27dqxY4dK\n",
              "liyp6OhoPffcc1q5cqWKFCmiiIgILVu2TI8//rji4uLUrl07WSwWJScnKyoqSr/88osKFSqkDh06\n",
              "qHfv3urSpYt+/vlnhYaG6plnnpHkvn7KzFW9KEn333+/9u3b59VoBW/K1dKlS42bCpJcTiF/9OhR\n",
              "JSQkaMWKFSpevLgOHz6s+vXrKzk5WYUKFXK6zUsvvaSaNWtqxYoV+u2332S1Wo1ROWFhYdqwYYN8\n",
              "fHx07tw5hYaGKi4uzmnbd/XqVZf1mKu62135lbxr2zPXPbNnz3a6z7lz5+rAgQPatGmTfHx8NGvW\n",
              "LPXu3Vvffvut0/U9cfDgQf3www8qWLBglumZndVDU6ZM0cmTJ52OYHd2/D/66CMdOnTIaKMylq/J\n",
              "kyeradOmxkgNezuXuS09dOiQihcvboxCyDhq8NNPP9XChQu1YcMGlShRQufPn89yvuzZs0f9+/fX\n",
              "jh07VL58eY0aNUrPPfecli1b5jZvvv32W82fP187duxQsWLF1KFDB5frzp49W5UqVdJ3333n8Fsq\n",
              "Vqyo1atXq1ChQkpJSVGdOnUUGxtrjCb3tJ6Q0tvTzZs3629/+5tatGihCRMmaMiQIQ7pGDt2rO69\n",
              "915t3bpVUnr/cOjQoXr//ff16quvav/+/SpbtqxSU1N17dq1LL/j+vXratOmjWbMmKHY2Fh99913\n",
              "DmW2Q4cOeuWVVySlP1jUuXNn7d+/X8OGDctSn58/f95pGaxQoYJsNpuWL1+u0aNHG9/52WefKSYm\n",
              "RmvXrjVu9Erp7cKQIUP06KOP6saNG2ratKnmz5+vp59+WlJ6W71p0yb997//VZUqVdSlSxeVL18+\n",
              "2+0y9gvd1QGZy2dGLVu2VJ8+fXTq1CmVKVNG69atU6lSpRQSEpJtfy2j7M6TjL766iuXr9bIz3bn\n",
              "8uXL2r9/vyIjI3X69Gl17dpVP/74o6pXr64ZM2YYwR5JGjhwoMaNGycpfTRVnz59HF6t4OPjY9Q/\n",
              "Tz/9tMt63t35LqU/5LV27VoVKlRIDRo00MKFC43+UUaurm++/fZbLVy4UDt37lTRokWNB2ydmTJl\n",
              "ikNbJ7nuWxUpUkTPPPOM1q1bp6CgIM2ZM0etWrXKcm64qley46qucHf83B13Z3W7O67azYsXLyo8\n",
              "PFwjRozQJ598ori4OH3zzTeaMGGCxo4dqzfeeMMheODtdt6UOSl9yuvMffbffvtNkydPNtL//vvv\n",
              "Ozy4uG/fPm3cuFGpqalq0KCBPv/8cz3zzDNu6xtn7f7ixYu1ePFipw9furoWy0meuLtOc9c+Z5eX\n",
              "7uqh9evXa9euXSpTpox69+6twYMH66OPPnJbXu0Pnb3xxhs6deqUQzl3lx/333+/Tpw4oUuXLql4\n",
              "8eIOy+yB2xMnTqhChQpO05p5X84euHDH235PTu+1eHv97+fn53FbnbFt++ijj7Rt2zbt2LFDPj4+\n",
              "atasmSZMmKCBAwdKcl2n7tixQ6NGjXKZT9ldZxYqVEhbt2412pAOHTpo0KBB2r9/v8vrV2/rLGf3\n",
              "EfLqPoHkXX3n6j7Lxo0bb8txdybjvu0P7jr7reXLl/f6/t6vv/7qMDq3YsWK+vXXX52mY8CAAXr+\n",
              "+ef14IMPukzrfffdp3379jmtLz25zn3rrbeyDPwoWLmcy/UBAIC55Vmg9+2331ZCQoK6du3qtvNi\n",
              "t2TJEm3ZskUFCqQPMrY/Nbdq1Sq98847KlCggO6991517NhRK1euNC6M2rRpI19fX/n6+spqterI\n",
              "kSNGADCjr7/+Wj/99JPDFEznzp0zngS3j5iw//97773nNJ2VK1fWjRs31LVrV8XExOjxxx830uyM\n",
              "t1OetmjRQsuWLdOnn37q8TadO3c2Rstml192iYmJ2rRpk8aPHy8p/YlPd6OaIiIinAZ5cyIkJEQ/\n",
              "//yzevfurUcffdS4SMzuGNWpU8fo7OemihUrqlGjRpKk1q1bq0ePHjp+/LhKly6tgQMHasOGDbLZ\n",
              "bDp9+rQCAwONQG926YmJidGIESN06NAhNWzYUPXq1XO5brly5bwK8q5du1ZPP/20KlasaNzY9cbG\n",
              "jRt19OhRh/dCStKBAwdUvnx5zZ49W6GhoSpVqpTLkVHu5Na5kpE3+Wl3+fJl/ec//zGmjX3kkUdU\n",
              "r149rV+/3rgIe+655ySll+0GDRrohx9+cAj0HjhwQHv37nWYzury5cvat2+fTp8+rWrVqhnv/ixQ\n",
              "oIDLkZGNGjVSnz591KpVKzVu3Nij4GPhwoXVsmVLSen10pEjR7Ldxpttva3P7Bo3bqxSpUpJSg86\n",
              "FipUSMWKFZMkhYaG6tChQ5KkY8eOqX379jpx4oR8fX117tw5HTt2zDjf7e93rVGjhsPx9LZ+csU+\n",
              "Cuzjjz/26B1/t1quXFm+fLkOHz6sBg0aGJ8VKFBAv/76qx555BGn26xevdoIFpQvX95hytCzZ8+q\n",
              "W7duOnjwoHx9fXX27Fnt2bPH6c2+mzdvuq3HnHFXfr1t2z2VmJiobdu2KTw8XFLuTM//7LPPqmDB\n",
              "gh6v7+0Uf6tXr3b4jk6dOhk3ths0aKD+/fvrypUrevTRR40bbZnbUmfTNttvyCxZskS9evUyRmPY\n",
              "y1xGa9euVZMmTVS+fHlJUu/evTV8+PBs82/16tVq3bq1cfO4Z8+e2rBhg9N1o6KiNGHCBL366qtq\n",
              "0KCBMUV8SkqKevfuraSkJBUoUEDHjx9XUlKSEcDztJ6Q0tte+7Ju3brp3XffzRLoTUxM1MWLF7Vw\n",
              "4UJJ6YFbe13dqFEjdejQQU888YQee+wxp9PY7d+/X76+vsaxaNy4sSpXrmws37lzp0aNGqWzZ8/K\n",
              "19dXBw4cUEpKitMZQ9yVwW3btql69eoqVqyYdu3aJV9fX8XExEhKb8eqVKkiSfrzzz+1evVq/fHH\n",
              "H8Z+r1y54jAC1H5jt3Tp0qpcubKOHTumkiVLZrtdxn5hTuoAKX2k2VNPPaVZs2apf//+mjlzpjHq\n",
              "0l1/LXN+ZXee2KWmpmrjxo0u+7/52e4sW7ZMTZo0kcVi0ebNmxUcHGwEajp16uRQd6xcuVLvvfee\n",
              "Ll++rJs3b2YJYGYMqLqr592d71L6Ozz/9re/SZJq1qzpsn/g6vpm9erVevrppx3KnafvwnXXtypR\n",
              "ooSCgoIUFBQkKT0I8sILLxgzDdi5qley46qucHX8Ll265Pa455bChQsbdXlERISKFi1qlPuaNWu6\n",
              "fM+rp9t5U+ZcefbZZzVs2DD98ccfOnTokCwWi8O76zt27KiCBQuqYMGCevbZZ7Vq1So1b9482/om\n",
              "s2bNmt3SNOee5om7us1d++wuL319fd3WQ48//rjxYFaPHj2Mfra78pqxnJcpU8ZhpgR3goKC1Lhx\n",
              "Y5UrV07jxo1zqGdKliypfv36yc/PT/369XOYKcEZe7D5wQcf1JYtW1SuXM4CPTnNV8l1XeTt9b83\n",
              "bXVG9lll7A/Mde/eXe+//74R6PW0Ts3Ik+tM+8PS1atXl6+vr06dOuU2OJ+TOivzfYS8vE9QuXJl\n",
              "r+o7V/dZbtdxdybjvrO7J+JMbrzSaOXKlfrll18cHrZxZtSoUYqJiVHbtm2z1EueXOcOHjzYCJDb\n",
              "lWvZ8NYSDwAA7lh5FugdMGCA2rRpoxo1auiNN95w+V4Kb9lvXNllfF+Fj4+PwzR8GdlsNnXq1Elv\n",
              "vvmm0+We7qdEiRLas2ePvv/+e61du1aDBw/WDz/8ID8/P29/ilOJiYn6/PPPNWbMGI/fk+Ju2p7M\n",
              "+WVns9m0cOHCPHunh6+vr8ON5oxTzlSuXFn79u3TmjVrtGrVKg0YMEBJSUnZHqNbnebYUxaLRRaL\n",
              "RePHj9fp06e1ZcsWFS5cWK+88orD78guPX379lXz5s21atUqDRkyRIGBgfrggw9yJY0xMTE6ceKE\n",
              "atWqpeXLlxvTfnrKZrMpICDAYQq3jH755RfdvHlTly9f1p9//ulQPvJLbuWnqzLharnNZtN9993n\n",
              "NBDvzWjD8ePHa+/evVq7dq06deqk9u3ba8CAAW63KVSokJEeHx8fr4Jfnmyb0/osc33pqv5s27at\n",
              "Ro8erVatWklKfyrZ2fRTkmO+51b9NG7cOE2cOFE9e/b0aP1bLVeu2Gw2/fOf/9TcuXNzvI+M+dOr\n",
              "Vy/Fx8dr4cKFslgsCgsLc5mv2dVj3sqrtt1ms2nw4MEO74/Ljrt2Rrp9bYZdxmP01FNPqU6dOlq5\n",
              "cqUmT56siRMnOg2gJyYmGjduLl++rAMHDrgcSe1tGrLLH1fbjR492pjKecyYMYqLi1NSUpJWrVql\n",
              "RYsW6bXXXtPOnTs1ZMgQlS5dWjt37pSvr69atmzp8B2e1hPZpcfOZrPpvffec3jdg93ChQu1Y8cO\n",
              "rVu3TvHx8Ro5cqRKly5tjFx5+umnHaZdzPw9169fV8uWLbV27VpFRkbq0qVLKlGihK5du+b0JqK7\n",
              "Mpg5eO/qO+3Tom7evNllG+sszzzZLuO5fyt1QNeuXdWlSxc9//zzWrJkiSZMmGCk3VV/rVWrVjp8\n",
              "+LCk9KBAdueJ3Zo1a1S3bl2XD2fkZ7vz1VdfuR3xavfrr7/qxRdf1LZt21SlShXt2rXL4QEfyfM+\n",
              "u7vzXfL8usXT9dzVAZ48ZJld3yqz2rVrO61XvH2oK2N5cnb8nM2e4m1aPZFxtgVv6jtPt8vuGskT\n",
              "RYoUUefOnTV16lT9/PPPeuGFF9yub7FYPKpvcpuneeJN3Za5bLnKyxUrVrith1ztN7vy6iot7hw9\n",
              "elTffvutjh07lmXa2JSUFE2YMEFJSUkevYN5+vTpio6O1pw5c3L1/Pc0XyXXdZE31//ettWept1d\n",
              "+sLDw7Vp0yZj6v7c2u+tpDU7eXmfIPNsRDnp39nrlrw67t5cH2R3T8RbDz30kH755ReVLVtWUnp+\n",
              "OasX1qxZo//85z/GAyEnTpxQfHy8pk6d6tBffeutt7R48WKn73D25Dq3UKFCWWeP8sn9NhAAANwZ\n",
              "8vQdvQ8//LBKly6d5SluZ5o1a6Zx48YZ79axT90cGxurTz75RDabTX/++admzZrl0UVU8eLFdfHi\n",
              "RYf9z54925g65ebNm9q+fbvX+zlz5oz+/PNPNW7cWG+++aYqVqzo9VRI2alVq1a27yZ0xdP8atGi\n",
              "hcaMGWN0xM+fP2/cmMsNZcqUkc1mM/Lms88+M5adOHFCFovFOOY2m03Hjx/P8THKaOvWrcZTo55K\n",
              "Tk42noJcsGCBHnjgAVWoUEHnz59XmTJlVLhwYZ06dcrplGsZZT5XDhw4oEqVKql79+4aMmSINm/e\n",
              "7FW6slO4cGGFhIR4dK5kTludOnV07NgxrVq1yvgsKSlJ169f16VLl9S2bVvNmjVLvXr1UseOHY0b\n",
              "PZn3czu5yk93aSpWrJjCwsKMqTIPHz6sDRs2ONx4tS9LTk7W+vXrHUY3SFK1atVUvHhxh+k2Dx8+\n",
              "rHPnzqlOnTo6dOiQ1q9fL0kOo3cyp2v//v3GO8Sef/75XD0fcnpc8ro+O3/+vPH0/uzZs43py4sX\n",
              "L66QkBBjGt8DBw44jCbMrfrp+PHjioyMdPhs8uTJxnS6znhTrjwVFxenVatWadeuXcZn9un9XImN\n",
              "jdX06dMlpb/fbfHixcay8+fP6+GHH5bFYtEPP/zg8G65zOeCt/WYJ7xp2z3VokULTZkyxSg/qamp\n",
              "2rlzp9tt/Pz8jBkHtm7d6naEUV5o2LCh5s6dq9TUVKWmpjq0c4cOHdIDDzygjh076u2333Za3n//\n",
              "/XdduXLFGNW9dOlSPfbYY8YNvWbNmmnKlCnG8bxw4UKWBzZiYmK0fPlynTx5UlL6FKuNGjWSj4+P\n",
              "/Pz8jNc43Lhxw+FBg9jYWM2fP1+XL1+WzWbTRx99ZCwbNGiQkpKSlJSUpLi4OB07dkxFixZV69at\n",
              "9d577+ngwYO6cuWKzp8/rwoVKhgjK1auXJnjvFywYIGuXLmitLQ0Y2rlzOzTtNrfR/bXX39p7969\n",
              "unHjho4cOaKIiAj169dPrVq10tatWxUbG2v8jn//+9+qXr26bty4YbT3q1atMkbsXL16VdevX9dD\n",
              "Dz0kSVlmdXFWrlyVwYzvXK5WrZpSU1P1/fffS5K+//57oy6zj4AZPXq0se3Jkycd3tPqjLfbuasD\n",
              "sms77CNt+vXrp9jYWGPGCnf9tQULFhj5fv/993t8nmR8B+6tyO125/r169q0aZPxHsqoqCjt2rXL\n",
              "qG9mz55tvMvx4sWLKliwoMqWLSubzZbtSB139byr8z23NGzYUAsXLtSVK1dks9mMdEhZ64DixYsr\n",
              "JSXF+J3u+lZRUVHavXu38Y7GL774QuXLl88yMspVvZIdV3WFq+OX3XF35rfffvMoeHY75eQayVn5\n",
              "fuGFF/TRRx9pzZo1xkhDu9mzZys1NVUpKSmaO3euYmNjc1xP3Q7u6jZ37bO7vMyuHlq6dKkxunna\n",
              "tGkO55+r8tqwYUPjNQF//PGHlixZ4tHvO3HihB5++GGn7wY9c+aMChYs6PF5evz4cUVERGQbMGzU\n",
              "qJHb/mlO89Udb7bztq3OKDY2Vp999pmuX7+uGzduaNq0aR7dUxowYICmT5/u8HDvqVOn9Omnn3p0\n",
              "nemtnNRZzuTVfQJvubrPkpfH3c/PT9u3b1daWpr++usvY6S9M7n5W6X0BwunTJkiKb2dW7dundOH\n",
              "/9566y399ttvSk5OVnJysipUqKClS5dmeSjR2bWsJ8sAAMD/pjwN9ErpT/XZg7fuTJgwQdeuXVNQ\n",
              "UJCsVqsxZd9rr72mggULKigoSLVq1VKzZs3UunXrbPfXoUMHffnllwoNDdW0adNUv359vf3223ry\n",
              "yScVEhKigIAA42l1d4KDgxUQEKDAwEA1a9ZMx48f1z//+U8FBwcrMDBQgYGBWaZ6yWjYsGFGZ89T\n",
              "nuaZM57m14QJE1SkSBFZrVYFBwerUaNGWd5hmNH27duzvN/THV9fX7333ntq2rSpIiMjlZqaaizb\n",
              "vXu36tatq5CQEIWGhqpDhw4KDg7O8THKKDk52esnegMCAjRz5kwFBQXprbfe0ueffy6LxaI+ffpo\n",
              "y5YtCggIUIcOHZzeeM6oR48eevPNN2W1WrV06VJNnjxZAQEBCg0N1dChQ/XOO++43PbkyZNevUfU\n",
              "ztNzpVGjRrp27ZqCg4PVq1cvlSpVSt9++63efPNNhYSEyN/fX4MGDdLNmzfVrVs3tW/fXjExMerf\n",
              "v78sFovefvttp7/Rlfj4eK+D9AkJCapQoYLxX+aAlKv8zFzWM5szZ47mzZunkJAQtWrVStOmTTMu\n",
              "FKX0KWJDQ0PVuHFjvfvuuw5TI1osFvn6+mrJkiVatGiRUR9069ZNKSkpKlWqlL766isNGjRIwcHB\n",
              "CgsLM6bveumll9S9e3fjvXZDhgwx0j9r1iwlJCR4lT/uPPnkk0pKSpLVavVqOilv6zNvTZo0Sa1a\n",
              "tVJoaKh27tzpkO+fffaZPvzwQwUGBmrgwIGKjIxUyZIlJbmvn6ZMmaJhw4Z59P03b97MMjpo3759\n",
              "2Y5CvZU62Bk/Pz/NnTtXPXv2VEhIiGrUqGG8T9mVSZMmafPmzfL391fHjh3VsOH/T7M1evRoDRo0\n",
              "SFarVdOnT3eY9ixzefC2HpM8K7+5nUft27dX586dFRMTo5CQEFmtVq1Zs8btNiNHjtT777+vkJAQ\n",
              "TZ8+XQEBAbeUBm/OLSl9uuOKFSvK399fdevWVZUqVYxzeMGCBQoKClJoaKjatGlj9AMytqUZ38cr\n",
              "ZR0J2qFDB2NkcEhIiOLj47O8ezYwMFBjx45VkyZNFBwcrPXr1+vjjz+WlB6Qio+PV2BgoKKjox2m\n",
              "CY+Pj1erVq0UFhamiIgIh7KZ2bp16xQeHi6r1ao6depo7NixKlGihIYOHaoZM2YoODhYgwYNcjhH\n",
              "vRUZGam4uDjVqFFDJUuWdPrOOns9UatWLQUHBysqKkpJSUlKS0tT165dFRgYKKvVqh07dmSZpk6S\n",
              "7rnnHs2bN08vv/yygoKCNHfuXIWEhEhKv0k4cuRI1axZU+Hh4VneVZ65PndVBvfv369SpUrpH//4\n",
              "h6T0kRRffPGFXnrpJQUFBWnGjBmqVq2acZ7MmTNHhw8fVmBgoIKCgtSyZUuH97264s127uqAzH0D\n",
              "Z7p06aKpU6ca0zZL8qq/5sl5YrPZtGLFCo+n73Unt9udNWvWqF69esYIv3/84x+aNm2aWrRoIavV\n",
              "qt27d6to0aIqWbKkgoKC1LZtWwUEBCgyMtJtubKn1VU97+p8zy1NmzZV8+bNZbVajXyw50Vm9913\n",
              "nzp27Kjg4GBjxgFXfau///3vmjNnjrH+hx9+qPnz52cJMLmqV5z1hzNu66qucNdvcHfcnfntt9/k\n",
              "65tnk17lSE6ukZz12StUqKDQ0FA9++yzxjS1djVq1FDdunUVFBSk+vXrGzNLeVtPLV682HgtSl5y\n",
              "V7e5a59d5aWreijj+Ve/fn0988wzql69un755RdjNKK78jpp0iStX79e/v7+at++vWrVquX2/LNz\n",
              "1of1ZFlO109LS9NPP/3kdlrhnORrdrzZztu2OqMePXooLCxMYWFhslqtqlixotO+RmZBQUFatmyZ\n",
              "Jk2apMqVKxtlwP4qgeyuM3PC2zrL1X2EvLhP4C1X91ny8ri3bNlS5cqVU40aNdS0aVOFhoa6TF9O\n",
              "fqu7+3v9+/dXSkqKqlSpori4OE2ePFmlS5eW5P11hpTeP8qtegAAANz9LDb7UL08UrNmTQ0ZMsTt\n",
              "NHb/q6Kjo9W3b98seXPlyhWVKlVKp06dyrVpMf9XvPDCC2rXrp3H799at26d+vbtm6s3z3KbuzQO\n",
              "GDBA169fzzZoBO+cPn1aDz74oFJSUjx6Zy28d+XKFd17772yWCw6duyYateurW3btuXae18vX76s\n",
              "smXL6uDBgw7vIqtXr56WLVtmvOPPGcpV9mjb012+fFnFihVTamqq2rdvr/DwcON9b9lp0qSJRo4c\n",
              "qYiICF2/fl1Vq1bV4cOH77gAQ17r3LmzrFarRzdc73SjR4+Wr6+vMWW09P/niCRt27ZNzZo105Ej\n",
              "R7IEWf6Xbd68WSNHjvR4pFtO5aTd6dWrl2JjY42poCXHY5qYmKjBgwfr559/ztO05wX777DZbHr1\n",
              "1VeVkpKiDz/8ML+T5SAgIEAfffSR6tatm+O6wtvjPnbsWJUtW1bPPvtsLvyCO8uff/6patWqaf36\n",
              "9cbId8n1NamZeds+O6uH4uPj1b59e7Vv314JCQm6cOGC133DlJQUFSxY0Hife1RUlGbPnu3wkJ4z\n",
              "06dP1xdffKHvvvsuy7I1a9aoV69eOnjwYJZlmcuJzWZTTEyMevToYbz33S45OVlWq1UXLlzQtm3b\n",
              "NHXqVKcPzWZ0K/0eeCa3rpHy+3rGDPdZ7mRHjx6Vv7+/UlJSsjws5eo61xNF4yJVsq13M+ABAIDs\n",
              "negyOvuV8lie300cNmyY3njjDS1atMhheh+kPyE/ePBg7dq1y+HpvqJFiyohIUGNGjVS165d9dJL\n",
              "L+VjKs3l/fffz+8k5Lp77rlHZ8+eldVq1XfffWeMFJKk7t27q2fPngoNDdWWLVuyPOEK723btk1t\n",
              "2rRRQkICQd48tHHjRvXv319S+iiCCRMm5FqQd8aMGZo4caL+9a9/Zbn49WT6M8pV9mjb08XGxura\n",
              "tWu6evWq6tWr51V7vXz5cuP/77nnHrezasAcBg0alOWzhQsXasKECbLZbPL19dWsWbMI8mYSFRWV\n",
              "50FeKWftjrNRO++9957mzZuntLQ0FS9eXHPmzMmT9Oa1jh07Kjk5WVevXlVAQIDXMxDltWrVqqlG\n",
              "jRqKioq6pf14e9zt695tpkyZolGjRql3794OQd67lbftc+Z6yL59xpk3cuLQoUPGa3CuX7+u3r17\n",
              "ZxvkffLJJ3Xy5Em99dZbWZa98MIL2rx5s0aMGJFlWUxMjJKTk1W3bl1J6bNoPfvss6pcuXKW3zFv\n",
              "3jyNHDlSDzzwgKT00fKeTAN7K/0eeCa3rpG4njGvUaNGaf78+Xr77bezBHndXecCAID/bXk+ohcA\n",
              "AGS1dOlS4zUFGQ0ePFht2rTJhxTdeYYPH65FixZl+XzhwoWqUqVKPqQIAIA7w7Rp05y+C/q9995T\n",
              "/fr18yFFAIA7GSN6AQDIG3fCiF4CvQAAAAAAAABwlyLQCwBA3rgTAr3MSwoAAAAAAAAAAAAAJkOg\n",
              "FwAAAAAAAAAAAABMhkAvAAAAAAAAAAAAAJgMgV4AAAAAAAAAAAAAMBkCvQAAAAAAAAAAAABgMgR6\n",
              "AQAAAAAAAAAAAMBkCPQCAAAAAAAAAAAAgMkQ6AUAAAAAAAAAAAAAkyHQCwAAAAAAAAAAAAAmQ6AX\n",
              "AAAAAAAAAAAAAEyGQC8AAAAAAAAAAAAAmAyBXgAAAAAAAAAAAAAwGQK9AAAAAAAAAAAAAGAyBHoB\n",
              "AAAAAAAAAAAAwGQI9AIAAAAAAAAAAACAyRDoBQAAAAAAAAAAAACTIdALAAAAAAAAAAAAACZDoBcA\n",
              "AAAAAAAAAAAATIZALwAAAAAAAAAAAACYDIFeAAAAAAAAAAAAADAZAr0AAAAAAAAAAAAAYDIEegEA\n",
              "AAAAAAAAAADAZAj0AgAAAAAAAAAAAIDJEOgFAAAAAAAAAAAAAJMh0AsAAAAAAAAAAAAAJkOgFwAA\n",
              "AAAAAAAAAABMhkAvAAAAAAAAAAAAAJgMgV4AAAAAAAAAAAAAMBkCvQAAAAAAAAAAAABgMgR6AQAA\n",
              "AAAAAAAAAMBkCPQCAAAAAAAAAAAAgMkQ6AUAAAAAAAAAAAAAkyHQCwAAAAAAAAAAAAAmQ6AXAAAA\n",
              "AAAAAAAAAEyGQC8AAAAAAAAAAAAAmAyBXgAAAAAAAAAAAAAwGQK9AAAAAAAAAAAAAGAyvvmdAAAA\n",
              "AAAAAABA3ugRUF/ju4zO72QAAIA8wIheAAAAAAAAAAAAADAZAr0AAAAAAAAAAAAAYDIEegEAAAAA\n",
              "AAAAAADAZAj0AgAAAAAAAAAAAIDJEOgFAAAAAAAAAAAAAJMh0AsAAAAAAAAAAAAAJkOgFwAAAAAA\n",
              "AAAAAABMhkAvAAAAAAAAAAAAAJgMgV4AAAAAAAAAAAAAMBkCvQAAAAAAAAAAAABgMgR6AQAAAAAA\n",
              "AAAAAMBkCPQCAAAAAAAAAAAAgMkQ6AUAAAAAAAAAAAAAkyHQCwAAAAAAAAAAAAAmQ6AXAAAAAAAA\n",
              "AAAAAEyGQC8AAAAAAAAAAAAAmAyBXgAAAAAAAAAAAAAwGQK9AAAAAAAAAAAAAGAyBHoBAAAAAAAA\n",
              "AAAAwGQI9AIAAAAAAAAAAACAyRDoBQAAAAAAAAAAAACTIdALAAAAAAAAAAAAACZDoBcAAAAAAAAA\n",
              "AAAATIZALwAAAAAAAAAAAACYDIFeAAAAAAAAAAAAADAZAr0AAAAAAAAAAAAAYDIEegEAAAAAAAAA\n",
              "AADAZAj0AgAAAAAAAAAAAIDJEOgFAAAAAAAAAAAAAJMh0AsAAAAAAAAAAAAAJkOgFwAAAAAAAAAA\n",
              "AABMhkAvAAAAAAAAAAAAAJgMgV4AAAAAAAAAAAAAMBkCvQAAAAAAAAAAAABgMgR6AQAAAAAAAAAA\n",
              "AMBkCPQCAAAAAAAAAAAAgMkQ6AUAAAAAAAAAAAAAkyHQCwAAAAAAAAAAAAAmQ6AXAAAAAAAAAAAA\n",
              "AEyGQC8AAAAAAAAAAAAAmAyBXgAAAAAAAAAAAAAwGQK9AAAAAAAAAAAAAGAyBHoBAAAAAAAAAAAA\n",
              "wGQI9AIAAAAAAAAAAACAyRDoBQAAAAAAAAAAAACT8c3vBAAAAAAAAAAAct+1a9e0bNkypaWlycfH\n",
              "J7+T8z8lLS1NW7duVc2aNcn724h8zz/kff4g3/NPXuf9ww8/rD59+mS7nsVms9ly/dsBAAAAAAAA\n",
              "APnq0qVLKlGihC5evKjixYvnd3L+p5D3+YN8zz/kff4g3/PPnZL3TN0MAAAAAAAAAAAAACZDoBcA\n",
              "AAAAAAAAAAAATIZALwAAAAAAAAAAAACYDIFeAAAAAAAAALgLFSpUSK+//roKFSqU30n5n0Pe5w/y\n",
              "Pf+Q9/mDfM8/d0reW2w2my1fUwAAAAAAAAAAAAAA8AojegEAAAAAAAAAAADAZAj0AgAAAAAAAAAA\n",
              "AIDJEOgFAAAAAAAAAAAAAJMh0AsAAAAAAAAAJnbo0CHVqVNHVatWVWRkpPbu3et0vU8++USPPPKI\n",
              "qlSpou7duys1NfU2p/Tu40ner1mzRjVr1pS/v78CAgI0YMAA3bx5Mx9Se/fw9JyXJJvNpoYNG6pk\n",
              "yZK3L4F3MU/zfvfu3YqOjlaNGjVUo0YNLVq06Dan9O7iSb7fvHlTr7zyivz9/RUcHKyYmBgdPnw4\n",
              "H1J793jppZdUsWJFWSwWJSUluVwvP9tXAr0AAAAAAAAAYGI9e/ZUjx49dPDgQQ0cOFCdO3fOss6x\n",
              "Y8f02muvaf369Tp8+LD++OMPffTRR7c/sXcZT/K+VKlS+uKLL7Rv3z7t2LFDGzdu1GeffXb7E3sX\n",
              "8STf7SZMmKAqVarcvsTd5TzJ+7/++kvNmzfXyJEj9fPPP2vPnj2qX7/+7U/sXcSTfF+8eLF+/PFH\n",
              "/fTTT9q1a5caNWqkIUOG3P7E3kVatWqlDRs26OGHH3a5Tn63rwR6AQAAAAAAAMCkTp8+re3bt+vZ\n",
              "Z5+VJD311FM6fvx4llFcCxYsULNmzVSmTBlZLBb16tVLn3/+eX4k+a7had6HhoaqcuXKkqTChQvL\n",
              "arUqOTn5dif3ruFpvkvS3r17lZiYqEGDBt3uZN6VPM37uXPnKioqSvXq1ZMk+fj46O9///ttT+/d\n",
              "wtN8t1gsunbtmq5evSqbzaZLly6pQoUK+ZHku0aDBg2yzcP8bl8J9AIAAAAAAACASR0/flxly5aV\n",
              "r6+vpPQb/Q899JB+/fVXh/V+/fVXhxFJFStWzLIOvONp3md06tQpLViwQE2bNr1dybzreJrvqamp\n",
              "6t69u6ZOnSofH5/8SOpdx9O837dvnwoVKqSmTZvKarWqY8eOOnPmTH4k+a7gab4/8cQTio6OVpky\n",
              "ZVS2bFmtXr1aw4cPz48k/0/J7/aVQC8AAAAAAAAAAHns0qVLeuKJJzRgwABFRETkd3Luem+88YZa\n",
              "tmypGjVq5HdS/ufcuHFDq1at0tSpU7Vz506VL19ezz//fH4n6663fft27dmzR7/99ptOnjypRo0a\n",
              "qVevXvmdLOQxAr0AAAAAAAAAYFIPPvigfv/9d924cUOSZLPZ9Ouvv+qhhx5yWO+hhx7SL7/8Yvyd\n",
              "nJycZR14x9O8l6TLly+rSZMmat68uV555ZXbndS7iqf5/v333+u9995TxYoVVa9ePV26dEkVK1Zk\n",
              "ZOkt8Ka+iYmJUfny5WWxWPTss89q8+bN+ZHku4Kn+f7ZZ5+pYcOGKlmypAoUKKBOnTpp7dq1+ZHk\n",
              "/yn53b4S6AUAAAAAAAAAk/rHP/6hsLAwzZ49W5K0cOFCVahQQX5+fg7rPfXUU1q8eLFOnTolm82m\n",
              "KVOmqG3btvmR5LuGp3l/5coVNWnSRE2aNNHQoUPzI6l3FU/zff369frll1+UnJysDRs2qHjx4kpO\n",
              "TuZdsbfA07xv3bq1tm3bpkuXLkmSli5dqpCQkNue3ruFp/leuXJlrVmzRtevX5ckLVmyRIGBgbc9\n",
              "vf9r8rt9tdhsNttt+zYAAAAAAAAAQK46cOCAOnfurLNnz6p48eKaMWOGgoKC9Nxzz6lZs2Zq1qyZ\n",
              "JOnjjz/W6NGjJUnR0dGaMmWKChYsmJ9JNz1P8n7UqFFKSEhQQECAsd3TTz+tf//73/mYcnPz9Jy3\n",
              "S05OltVq1YULF/InwXcRT/N+1qxZGjNmjAoUKKDy5cvro48+0oMPPpjPqTcvT/L92rVrevHFF7Vh\n",
              "wwYVLFhQZcqU0ZQpU1S5cuX8Tr5p9ezZU99++61OnTql+++/X8WKFdPhw4fvqPaVQC8AAAAAAAAA\n",
              "AAAAmAxTNwMAAAAAAAAAAACAyRDoBQAAAAAAAAAAAACTIdALAAAAAAAAAAAAACZDoBcAAAAAAAAA\n",
              "AAAATIZALwAAAAAAAAAAAACYDIFeAAAAAAAAAAAAADAZAr0AAAAAAAAAAAAAYDIEegEAAAAAAAAA\n",
              "AADAZAj0AgAAAAAAAAAAAIDJEOgFAAAAAAAAAAAAAJMh0AsAAAAAAAAAAAAAJvN/hWF6uNpYfjwA\n",
              "AAAASUVORK5CYII=\n",
              "\">\n",
              "      </div>\n",
              "      <script type=\"text/javascript\">\n",
              "        (() => {\n",
              "          const chartElement = document.getElementById(\"chart-cc472391-d147-4530-8626-45a6020e04eb\");\n",
              "          async function getCodeForChartHandler(event) {\n",
              "            const chartCodeResponse =  await google.colab.kernel.invokeFunction(\n",
              "                'getCodeForChart', [\"chart-cc472391-d147-4530-8626-45a6020e04eb\"], {});\n",
              "            const responseJson = chartCodeResponse.data['application/json'];\n",
              "            await google.colab.notebook.addCell(responseJson.code, 'code');\n",
              "          }\n",
              "          chartElement.onclick = getCodeForChartHandler;\n",
              "        })();\n",
              "      </script>\n",
              "      <style>\n",
              "        .colab-quickchart-chart-with-code  {\n",
              "            display: block;\n",
              "            float: left;\n",
              "            border: 1px solid transparent;\n",
              "        }\n",
              "\n",
              "        .colab-quickchart-chart-with-code:hover {\n",
              "            cursor: pointer;\n",
              "            border: 1px solid #aaa;\n",
              "        }\n",
              "      </style>"
            ]
          },
          "metadata": {}
        }
      ],
      "source": [
        "bq_client = bigquery.Client(project=PROJECT_ID)\n",
        "\n",
        "bq_table_id = INPUT_DATA.replace(\"bq://\", \"\")\n",
        "sql = f\"\"\"\n",
        "        SELECT *\n",
        "        FROM {bq_table_id}\n",
        "        \"\"\"\n",
        "\n",
        "query_result = bq_client.query(sql)\n",
        "\n",
        "df = query_result.result().to_dataframe()\n",
        "df.head()"
      ]
    },
    {
      "source": [
        "from google.colab import sheets\n",
        "sheet = sheets.InteractiveSheet(df=df)"
      ],
      "cell_type": "code",
      "execution_count": 9,
      "outputs": [
        {
          "output_type": "stream",
          "name": "stdout",
          "text": [
            "https://docs.google.com/spreadsheets/d/1e_pPDw5fNvCncRkDSiysmcWCGzKWgVNCXBS7k-Otgt8#gid=0\n"
          ]
        },
        {
          "output_type": "display_data",
          "data": {
            "text/plain": [
              "<IPython.lib.display.IFrame at 0x7fe1cc6cbc90>"
            ],
            "text/html": [
              "\n",
              "        <iframe\n",
              "            width=\"100%\"\n",
              "            height=\"600\"\n",
              "            src=\"https://docs.google.com/spreadsheets/d/1e_pPDw5fNvCncRkDSiysmcWCGzKWgVNCXBS7k-Otgt8#gid=0/edit?rm=embedded?usp=sharing?widget=true&amp;headers=false\"\n",
              "            frameborder=\"0\"\n",
              "            allowfullscreen\n",
              "            \n",
              "        ></iframe>\n",
              "        "
            ]
          },
          "metadata": {}
        }
      ],
      "metadata": {
        "cellView": "form",
        "id": "j9BW8sIxikyj",
        "outputId": "98da1539-0f09-492e-ea46-9137d39ef676",
        "colab": {
          "base_uri": "https://localhost:8080/",
          "height": 639
        }
      }
    },
    {
      "cell_type": "markdown",
      "metadata": {
        "id": "T3jQ59mCsXLc"
      },
      "source": [
        "### Prepare batch output location\n",
        "\n",
        "When a batch prediction task completes, the output is stored in the location that you specified in your request.\n",
        "\n",
        "- The location is in the form of a Cloud Storage or BigQuery URI prefix, for example:\n",
        "`gs://path/to/output/data` or `bq://projectId.bqDatasetId`.\n",
        "\n",
        "- If not specified, `STAGING_BUCKET/gen-ai-batch-prediction` will be used for Cloud Storage source and `bq://PROJECT_ID.gen_ai_batch_prediction.predictions_TIMESTAMP` will be used for BigQuery source.\n",
        "\n",
        "This tutorial uses a **BigQuery** table as an example.\n",
        "\n",
        "- You can specify the URI of your BigQuery table in `BQ_OUTPUT_URI`, or\n",
        "- if it is not specified, this tutorial will create a new dataset `bq://PROJECT_ID.gen_ai_batch_prediction` for you."
      ]
    },
    {
      "cell_type": "code",
      "execution_count": null,
      "metadata": {
        "id": "OtUodwGXZ7US"
      },
      "outputs": [],
      "source": [
        "BQ_OUTPUT_URI = \"[your-bigquery-table]\"  # @param {type:\"string\"}\n",
        "\n",
        "if BQ_OUTPUT_URI == \"[your-bigquery-table]\":\n",
        "    bq_dataset_id = \"gen_ai_batch_prediction\"\n",
        "\n",
        "    # The output table will be created automatically if it doesn't exist\n",
        "    timestamp = datetime.now().strftime(\"%Y%m%d%H%M%S\")\n",
        "    bq_table_id = f\"prediction_result_{timestamp}\"\n",
        "    BQ_OUTPUT_URI = f\"bq://{PROJECT_ID}.{bq_dataset_id}.{bq_table_id}\"\n",
        "\n",
        "    bq_dataset = bigquery.Dataset(f\"{PROJECT_ID}.{bq_dataset_id}\")\n",
        "    bq_dataset.location = \"us-central1\"\n",
        "\n",
        "    bq_dataset = bq_client.create_dataset(bq_dataset, exists_ok=True, timeout=30)\n",
        "    print(\n",
        "        f\"Created BigQuery dataset {bq_client.project}.{bq_dataset.dataset_id} for batch prediction output.\"\n",
        "    )\n",
        "\n",
        "print(f\"BigQuery output URI: {BQ_OUTPUT_URI}\")"
      ]
    },
    {
      "cell_type": "markdown",
      "metadata": {
        "id": "T90CwWDHvonn"
      },
      "source": [
        "### Send a batch prediction request\n",
        "\n",
        "\n",
        "You create a batch prediction job using the `BatchPredictionJob.submit()` method. To make a batch prediction request, you specify a source model ID, an input source and an output location, either Cloud Storage or BigQuery, where Vertex AI stores the batch prediction results.\n",
        "\n",
        "To learn more, see the [Batch prediction API](https://cloud.google.com/vertex-ai/generative-ai/docs/model-reference/batch-prediction-api) page.\n"
      ]
    },
    {
      "cell_type": "code",
      "execution_count": null,
      "metadata": {
        "id": "3_PxZdTYbMyg"
      },
      "outputs": [],
      "source": [
        "job = BatchPredictionJob.submit(\n",
        "    source_model=MODEL_ID, input_dataset=INPUT_DATA, output_uri_prefix=BQ_OUTPUT_URI\n",
        ")"
      ]
    },
    {
      "cell_type": "markdown",
      "metadata": {
        "id": "A-Fo_Kd9FYRj"
      },
      "source": [
        "Print out the job status and other properties."
      ]
    },
    {
      "cell_type": "code",
      "execution_count": null,
      "metadata": {
        "id": "DWq7m79PbjG8"
      },
      "outputs": [],
      "source": [
        "print(f\"Job resource name: {job.resource_name}\")\n",
        "print(f\"Model resource name: {job.model_name}\")\n",
        "print(f\"Job state: {job.state.name}\")"
      ]
    },
    {
      "cell_type": "markdown",
      "metadata": {
        "id": "7aJaPNBrGPqK"
      },
      "source": [
        "### Wait for the batch prediction job to complete\n",
        "\n",
        "Depending on the number of input items that you submitted, a batch generation task can take some time to complete. You can use the following code to check the job status and wait for the job to complete."
      ]
    },
    {
      "cell_type": "code",
      "execution_count": null,
      "metadata": {
        "id": "dtJDIXdHc0W-"
      },
      "outputs": [],
      "source": [
        "# Refresh the job until complete\n",
        "while not job.has_ended:\n",
        "    time.sleep(5)\n",
        "    job.refresh()\n",
        "\n",
        "# Check if the job succeeds\n",
        "if job.has_succeeded:\n",
        "    print(\"Job succeeded!\")\n",
        "else:\n",
        "    print(f\"Job failed: {job.error}\")"
      ]
    },
    {
      "cell_type": "markdown",
      "metadata": {
        "id": "XWUgAxL-HjN9"
      },
      "source": [
        "### Retrieve batch prediction results\n",
        "\n",
        "When a batch prediction task is complete, the output of the prediction is stored in the Cloud Storage bucket or BigQuery location that you specified in your request.\n",
        "\n",
        "- When you are using BigQuery, the output of batch prediction is stored in an output dataset. If you had provided a dataset, the name of the dataset (`BQ_OUTPUT_URI`) is the name you had provided earlier.\n",
        "- If you did not provide an output dataset, a default dataset `bq://PROJECT_ID.gen_ai_batch_prediction` will be created for you. The name of the table is formed by appending `predictions_` with the timestamp of when the batch prediction job started.\n",
        "\n",
        "You can print out the exact output location in the `job.output_location` property."
      ]
    },
    {
      "cell_type": "code",
      "execution_count": null,
      "metadata": {
        "id": "XECxy_2HdHMm"
      },
      "outputs": [],
      "source": [
        "print(f\"Job output location: {job.output_location}\")"
      ]
    },
    {
      "cell_type": "markdown",
      "metadata": {
        "id": "NWLQEl3mYKO5"
      },
      "source": [
        "You can use the example code below to retrieve predictions and store them into a dataframe.\n"
      ]
    },
    {
      "cell_type": "code",
      "execution_count": null,
      "metadata": {
        "id": "-jLl3es3dTqB"
      },
      "outputs": [],
      "source": [
        "bq_table_id = job.output_location.replace(\"bq://\", \"\")\n",
        "\n",
        "sql = f\"\"\"\n",
        "        SELECT *\n",
        "        FROM {bq_table_id}\n",
        "        \"\"\"\n",
        "\n",
        "query_result = bq_client.query(sql)\n",
        "\n",
        "df = query_result.result().to_dataframe()\n",
        "df.head()"
      ]
    },
    {
      "cell_type": "markdown",
      "metadata": {
        "id": "2a4e033321ad"
      },
      "source": [
        "## Cleaning up\n",
        "\n",
        "Clean up resources created in this notebook."
      ]
    },
    {
      "cell_type": "code",
      "execution_count": null,
      "metadata": {
        "id": "ZNCyIKIrdPJY"
      },
      "outputs": [],
      "source": [
        "# Delete the batch prediction job\n",
        "job.delete()"
      ]
    }
  ],
  "metadata": {
    "colab": {
      "name": "intro_batch_prediction_using_bigquery_input_vertex_ai_sdk.ipynb",
      "toc_visible": true,
      "provenance": []
    },
    "kernelspec": {
      "display_name": "Python 3",
      "name": "python3"
    }
  },
  "nbformat": 4,
  "nbformat_minor": 0
}